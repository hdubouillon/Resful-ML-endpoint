{
  "cells": [
    {
      "attachments": {},
      "cell_type": "markdown",
      "metadata": {},
      "source": [
        "# Imports"
      ]
    },
    {
      "cell_type": "code",
      "execution_count": 26,
      "metadata": {},
      "outputs": [
        {
          "name": "stdout",
          "output_type": "stream",
          "text": [
            "2.12.0\n"
          ]
        }
      ],
      "source": [
        "import os\n",
        "\n",
        "from tensorflow.keras.models import load_model, save_model\n",
        "from tensorflow.keras.callbacks import ModelCheckpoint, EarlyStopping\n",
        "import tensorflow.keras as keras\n",
        "\n",
        "import pandas as pd\n",
        "import numpy as np\n",
        "\n",
        "print (keras.__version__) #2.12.0"
      ]
    },
    {
      "attachments": {},
      "cell_type": "markdown",
      "metadata": {},
      "source": [
        "# Load data"
      ]
    },
    {
      "cell_type": "code",
      "execution_count": null,
      "metadata": {},
      "outputs": [],
      "source": [
        "# go to parent directory\n",
        "os.chdir(\"..\")"
      ]
    },
    {
      "cell_type": "code",
      "execution_count": 32,
      "metadata": {
        "id": "Vr_tVeaZA4Mq"
      },
      "outputs": [],
      "source": [
        "train = pd.read_csv('data/fashion-mnist-train-2.csv')\n",
        "test = pd.read_csv('data/fashion-mnist_test.csv')\n",
        "\n",
        "X_train = train.drop(columns='label')\n",
        "X_test = test.drop(columns='label')\n",
        "y_train = train['label']\n",
        "y_test = test['label']\n",
        "\n",
        "# scale data\n",
        "X_train = X_train / 255.0\n",
        "X_test = X_test / 255.0"
      ]
    },
    {
      "attachments": {},
      "cell_type": "markdown",
      "metadata": {},
      "source": [
        "# Modelling"
      ]
    },
    {
      "cell_type": "code",
      "execution_count": 17,
      "metadata": {
        "colab": {
          "base_uri": "https://localhost:8080/"
        },
        "id": "VFd94GuHAx4g",
        "outputId": "74cc16b4-3fdb-48cf-e816-02240de60330"
      },
      "outputs": [
        {
          "name": "stdout",
          "output_type": "stream",
          "text": [
            "Epoch 1/500\n",
            "139/141 [============================>.] - ETA: 0s - loss: 0.2785 - accuracy: 0.9367\n",
            "Epoch 1: val_accuracy improved from -inf to 0.85900, saving model to model\\new_dense_nn_fashion_mnist\n"
          ]
        },
        {
          "name": "stderr",
          "output_type": "stream",
          "text": [
            "WARNING:absl:Found untraced functions such as _update_step_xla while saving (showing 1 of 1). These functions will not be directly callable after loading.\n"
          ]
        },
        {
          "name": "stdout",
          "output_type": "stream",
          "text": [
            "INFO:tensorflow:Assets written to: model\\new_dense_nn_fashion_mnist\\assets\n"
          ]
        },
        {
          "name": "stderr",
          "output_type": "stream",
          "text": [
            "INFO:tensorflow:Assets written to: model\\new_dense_nn_fashion_mnist\\assets\n"
          ]
        },
        {
          "name": "stdout",
          "output_type": "stream",
          "text": [
            "141/141 [==============================] - 6s 33ms/step - loss: 0.2776 - accuracy: 0.9367 - val_loss: 0.7068 - val_accuracy: 0.8590\n",
            "Epoch 2/500\n",
            "138/141 [============================>.] - ETA: 0s - loss: 0.1846 - accuracy: 0.9453\n",
            "Epoch 2: val_accuracy improved from 0.85900 to 0.87611, saving model to model\\new_dense_nn_fashion_mnist\n"
          ]
        },
        {
          "name": "stderr",
          "output_type": "stream",
          "text": [
            "WARNING:absl:Found untraced functions such as _update_step_xla while saving (showing 1 of 1). These functions will not be directly callable after loading.\n"
          ]
        },
        {
          "name": "stdout",
          "output_type": "stream",
          "text": [
            "INFO:tensorflow:Assets written to: model\\new_dense_nn_fashion_mnist\\assets\n"
          ]
        },
        {
          "name": "stderr",
          "output_type": "stream",
          "text": [
            "INFO:tensorflow:Assets written to: model\\new_dense_nn_fashion_mnist\\assets\n"
          ]
        },
        {
          "name": "stdout",
          "output_type": "stream",
          "text": [
            "141/141 [==============================] - 4s 32ms/step - loss: 0.1849 - accuracy: 0.9453 - val_loss: 0.4548 - val_accuracy: 0.8761\n",
            "Epoch 3/500\n",
            "138/141 [============================>.] - ETA: 0s - loss: 0.1505 - accuracy: 0.9528\n",
            "Epoch 3: val_accuracy improved from 0.87611 to 0.87656, saving model to model\\new_dense_nn_fashion_mnist\n"
          ]
        },
        {
          "name": "stderr",
          "output_type": "stream",
          "text": [
            "WARNING:absl:Found untraced functions such as _update_step_xla while saving (showing 1 of 1). These functions will not be directly callable after loading.\n"
          ]
        },
        {
          "name": "stdout",
          "output_type": "stream",
          "text": [
            "INFO:tensorflow:Assets written to: model\\new_dense_nn_fashion_mnist\\assets\n"
          ]
        },
        {
          "name": "stderr",
          "output_type": "stream",
          "text": [
            "INFO:tensorflow:Assets written to: model\\new_dense_nn_fashion_mnist\\assets\n"
          ]
        },
        {
          "name": "stdout",
          "output_type": "stream",
          "text": [
            "141/141 [==============================] - 5s 35ms/step - loss: 0.1502 - accuracy: 0.9527 - val_loss: 0.4778 - val_accuracy: 0.8766\n",
            "Epoch 4/500\n",
            "140/141 [============================>.] - ETA: 0s - loss: 0.1306 - accuracy: 0.9577\n",
            "Epoch 4: val_accuracy improved from 0.87656 to 0.87700, saving model to model\\new_dense_nn_fashion_mnist\n"
          ]
        },
        {
          "name": "stderr",
          "output_type": "stream",
          "text": [
            "WARNING:absl:Found untraced functions such as _update_step_xla while saving (showing 1 of 1). These functions will not be directly callable after loading.\n"
          ]
        },
        {
          "name": "stdout",
          "output_type": "stream",
          "text": [
            "INFO:tensorflow:Assets written to: model\\new_dense_nn_fashion_mnist\\assets\n"
          ]
        },
        {
          "name": "stderr",
          "output_type": "stream",
          "text": [
            "INFO:tensorflow:Assets written to: model\\new_dense_nn_fashion_mnist\\assets\n"
          ]
        },
        {
          "name": "stdout",
          "output_type": "stream",
          "text": [
            "141/141 [==============================] - 4s 29ms/step - loss: 0.1306 - accuracy: 0.9577 - val_loss: 0.4426 - val_accuracy: 0.8770\n",
            "Epoch 5/500\n",
            "139/141 [============================>.] - ETA: 0s - loss: 0.1202 - accuracy: 0.9613\n",
            "Epoch 5: val_accuracy improved from 0.87700 to 0.88233, saving model to model\\new_dense_nn_fashion_mnist\n"
          ]
        },
        {
          "name": "stderr",
          "output_type": "stream",
          "text": [
            "WARNING:absl:Found untraced functions such as _update_step_xla while saving (showing 1 of 1). These functions will not be directly callable after loading.\n"
          ]
        },
        {
          "name": "stdout",
          "output_type": "stream",
          "text": [
            "INFO:tensorflow:Assets written to: model\\new_dense_nn_fashion_mnist\\assets\n"
          ]
        },
        {
          "name": "stderr",
          "output_type": "stream",
          "text": [
            "INFO:tensorflow:Assets written to: model\\new_dense_nn_fashion_mnist\\assets\n"
          ]
        },
        {
          "name": "stdout",
          "output_type": "stream",
          "text": [
            "141/141 [==============================] - 4s 31ms/step - loss: 0.1202 - accuracy: 0.9613 - val_loss: 0.4389 - val_accuracy: 0.8823\n",
            "Epoch 6/500\n",
            "140/141 [============================>.] - ETA: 0s - loss: 0.1162 - accuracy: 0.9607\n",
            "Epoch 6: val_accuracy did not improve from 0.88233\n",
            "141/141 [==============================] - 2s 16ms/step - loss: 0.1165 - accuracy: 0.9606 - val_loss: 0.4544 - val_accuracy: 0.8798\n",
            "Epoch 7/500\n",
            "138/141 [============================>.] - ETA: 0s - loss: 0.1051 - accuracy: 0.9637\n",
            "Epoch 7: val_accuracy did not improve from 0.88233\n",
            "141/141 [==============================] - 2s 16ms/step - loss: 0.1048 - accuracy: 0.9637 - val_loss: 0.4444 - val_accuracy: 0.8791\n",
            "Epoch 8/500\n",
            "138/141 [============================>.] - ETA: 0s - loss: 0.0962 - accuracy: 0.9673\n",
            "Epoch 8: val_accuracy did not improve from 0.88233\n",
            "141/141 [==============================] - 2s 17ms/step - loss: 0.0961 - accuracy: 0.9673 - val_loss: 0.4762 - val_accuracy: 0.8797\n",
            "Epoch 9/500\n",
            "138/141 [============================>.] - ETA: 0s - loss: 0.0937 - accuracy: 0.9665\n",
            "Epoch 9: val_accuracy did not improve from 0.88233\n",
            "141/141 [==============================] - 2s 17ms/step - loss: 0.0937 - accuracy: 0.9666 - val_loss: 0.4847 - val_accuracy: 0.8744\n",
            "Epoch 10/500\n",
            "138/141 [============================>.] - ETA: 0s - loss: 0.0894 - accuracy: 0.9690\n",
            "Epoch 10: val_accuracy did not improve from 0.88233\n",
            "141/141 [==============================] - 2s 17ms/step - loss: 0.0897 - accuracy: 0.9690 - val_loss: 0.4959 - val_accuracy: 0.8793\n",
            "Epoch 11/500\n",
            "139/141 [============================>.] - ETA: 0s - loss: 0.0860 - accuracy: 0.9699\n",
            "Epoch 11: val_accuracy improved from 0.88233 to 0.88300, saving model to model\\new_dense_nn_fashion_mnist\n"
          ]
        },
        {
          "name": "stderr",
          "output_type": "stream",
          "text": [
            "WARNING:absl:Found untraced functions such as _update_step_xla while saving (showing 1 of 1). These functions will not be directly callable after loading.\n"
          ]
        },
        {
          "name": "stdout",
          "output_type": "stream",
          "text": [
            "INFO:tensorflow:Assets written to: model\\new_dense_nn_fashion_mnist\\assets\n"
          ]
        },
        {
          "name": "stderr",
          "output_type": "stream",
          "text": [
            "INFO:tensorflow:Assets written to: model\\new_dense_nn_fashion_mnist\\assets\n"
          ]
        },
        {
          "name": "stdout",
          "output_type": "stream",
          "text": [
            "141/141 [==============================] - 4s 31ms/step - loss: 0.0857 - accuracy: 0.9701 - val_loss: 0.4688 - val_accuracy: 0.8830\n",
            "Epoch 12/500\n",
            "138/141 [============================>.] - ETA: 0s - loss: 0.0829 - accuracy: 0.9718\n",
            "Epoch 12: val_accuracy did not improve from 0.88300\n",
            "141/141 [==============================] - 2s 17ms/step - loss: 0.0832 - accuracy: 0.9716 - val_loss: 0.4842 - val_accuracy: 0.8783\n",
            "Epoch 13/500\n",
            "140/141 [============================>.] - ETA: 0s - loss: 0.0774 - accuracy: 0.9735\n",
            "Epoch 13: val_accuracy did not improve from 0.88300\n",
            "141/141 [==============================] - 2s 16ms/step - loss: 0.0772 - accuracy: 0.9736 - val_loss: 0.4887 - val_accuracy: 0.8784\n",
            "Epoch 14/500\n",
            "141/141 [==============================] - ETA: 0s - loss: 0.0761 - accuracy: 0.9730\n",
            "Epoch 14: val_accuracy did not improve from 0.88300\n",
            "141/141 [==============================] - 2s 16ms/step - loss: 0.0761 - accuracy: 0.9730 - val_loss: 0.5728 - val_accuracy: 0.8776\n",
            "Epoch 15/500\n",
            "139/141 [============================>.] - ETA: 0s - loss: 0.0734 - accuracy: 0.9739\n",
            "Epoch 15: val_accuracy did not improve from 0.88300\n",
            "141/141 [==============================] - 2s 16ms/step - loss: 0.0735 - accuracy: 0.9739 - val_loss: 0.5028 - val_accuracy: 0.8798\n",
            "Epoch 16/500\n",
            "140/141 [============================>.] - ETA: 0s - loss: 0.0760 - accuracy: 0.9740\n",
            "Epoch 16: val_accuracy did not improve from 0.88300\n",
            "141/141 [==============================] - 2s 16ms/step - loss: 0.0760 - accuracy: 0.9740 - val_loss: 0.5249 - val_accuracy: 0.8787\n",
            "Epoch 17/500\n",
            "140/141 [============================>.] - ETA: 0s - loss: 0.0717 - accuracy: 0.9739\n",
            "Epoch 17: val_accuracy did not improve from 0.88300\n",
            "141/141 [==============================] - 2s 16ms/step - loss: 0.0717 - accuracy: 0.9739 - val_loss: 0.5294 - val_accuracy: 0.8796\n",
            "Epoch 18/500\n",
            "140/141 [============================>.] - ETA: 0s - loss: 0.0730 - accuracy: 0.9743\n",
            "Epoch 18: val_accuracy did not improve from 0.88300\n",
            "141/141 [==============================] - 2s 17ms/step - loss: 0.0730 - accuracy: 0.9743 - val_loss: 0.4985 - val_accuracy: 0.8830\n",
            "Epoch 19/500\n",
            "138/141 [============================>.] - ETA: 0s - loss: 0.0692 - accuracy: 0.9758\n",
            "Epoch 19: val_accuracy did not improve from 0.88300\n",
            "141/141 [==============================] - 2s 16ms/step - loss: 0.0689 - accuracy: 0.9759 - val_loss: 1.6439 - val_accuracy: 0.8338\n",
            "Epoch 20/500\n",
            "141/141 [==============================] - ETA: 0s - loss: 0.0693 - accuracy: 0.9751\n",
            "Epoch 20: val_accuracy did not improve from 0.88300\n",
            "141/141 [==============================] - 2s 16ms/step - loss: 0.0693 - accuracy: 0.9751 - val_loss: 0.5514 - val_accuracy: 0.8688\n",
            "Epoch 21/500\n",
            "140/141 [============================>.] - ETA: 0s - loss: 0.0661 - accuracy: 0.9762\n",
            "Epoch 21: val_accuracy did not improve from 0.88300\n",
            "141/141 [==============================] - 2s 16ms/step - loss: 0.0660 - accuracy: 0.9762 - val_loss: 0.5349 - val_accuracy: 0.8806\n",
            "Epoch 22/500\n",
            "140/141 [============================>.] - ETA: 0s - loss: 0.0716 - accuracy: 0.9747\n",
            "Epoch 22: val_accuracy did not improve from 0.88300\n",
            "141/141 [==============================] - 2s 17ms/step - loss: 0.0716 - accuracy: 0.9747 - val_loss: 0.5715 - val_accuracy: 0.8823\n",
            "Epoch 23/500\n",
            "141/141 [==============================] - ETA: 0s - loss: 0.0658 - accuracy: 0.9773\n",
            "Epoch 23: val_accuracy did not improve from 0.88300\n",
            "141/141 [==============================] - 3s 18ms/step - loss: 0.0658 - accuracy: 0.9773 - val_loss: 0.5377 - val_accuracy: 0.8758\n",
            "Epoch 24/500\n",
            "140/141 [============================>.] - ETA: 0s - loss: 0.0704 - accuracy: 0.9751\n",
            "Epoch 24: val_accuracy did not improve from 0.88300\n",
            "141/141 [==============================] - 2s 17ms/step - loss: 0.0703 - accuracy: 0.9750 - val_loss: 0.5337 - val_accuracy: 0.8799\n",
            "Epoch 25/500\n",
            "141/141 [==============================] - ETA: 0s - loss: 0.0665 - accuracy: 0.9762\n",
            "Epoch 25: val_accuracy did not improve from 0.88300\n",
            "141/141 [==============================] - 2s 17ms/step - loss: 0.0665 - accuracy: 0.9762 - val_loss: 0.5959 - val_accuracy: 0.8742\n",
            "Epoch 26/500\n",
            "138/141 [============================>.] - ETA: 0s - loss: 0.0626 - accuracy: 0.9780\n",
            "Epoch 26: val_accuracy did not improve from 0.88300\n",
            "141/141 [==============================] - 2s 17ms/step - loss: 0.0626 - accuracy: 0.9780 - val_loss: 0.5488 - val_accuracy: 0.8767\n",
            "Epoch 27/500\n",
            "139/141 [============================>.] - ETA: 0s - loss: 0.0575 - accuracy: 0.9800\n",
            "Epoch 27: val_accuracy did not improve from 0.88300\n",
            "141/141 [==============================] - 2s 18ms/step - loss: 0.0576 - accuracy: 0.9800 - val_loss: 0.5769 - val_accuracy: 0.8791\n",
            "Epoch 28/500\n",
            "140/141 [============================>.] - ETA: 0s - loss: 0.0613 - accuracy: 0.9789\n",
            "Epoch 28: val_accuracy did not improve from 0.88300\n",
            "141/141 [==============================] - 2s 17ms/step - loss: 0.0612 - accuracy: 0.9789 - val_loss: 0.5400 - val_accuracy: 0.8793\n",
            "Epoch 29/500\n",
            "140/141 [============================>.] - ETA: 0s - loss: 0.0578 - accuracy: 0.9787\n",
            "Epoch 29: val_accuracy improved from 0.88300 to 0.88533, saving model to model\\new_dense_nn_fashion_mnist\n"
          ]
        },
        {
          "name": "stderr",
          "output_type": "stream",
          "text": [
            "WARNING:absl:Found untraced functions such as _update_step_xla while saving (showing 1 of 1). These functions will not be directly callable after loading.\n"
          ]
        },
        {
          "name": "stdout",
          "output_type": "stream",
          "text": [
            "INFO:tensorflow:Assets written to: model\\new_dense_nn_fashion_mnist\\assets\n"
          ]
        },
        {
          "name": "stderr",
          "output_type": "stream",
          "text": [
            "INFO:tensorflow:Assets written to: model\\new_dense_nn_fashion_mnist\\assets\n"
          ]
        },
        {
          "name": "stdout",
          "output_type": "stream",
          "text": [
            "141/141 [==============================] - 3s 25ms/step - loss: 0.0577 - accuracy: 0.9787 - val_loss: 0.6028 - val_accuracy: 0.8853\n",
            "Epoch 30/500\n",
            "138/141 [============================>.] - ETA: 0s - loss: 0.0512 - accuracy: 0.9823\n",
            "Epoch 30: val_accuracy did not improve from 0.88533\n",
            "141/141 [==============================] - 2s 16ms/step - loss: 0.0511 - accuracy: 0.9823 - val_loss: 0.6645 - val_accuracy: 0.8794\n",
            "Epoch 31/500\n",
            "138/141 [============================>.] - ETA: 0s - loss: 0.0578 - accuracy: 0.9799\n",
            "Epoch 31: val_accuracy did not improve from 0.88533\n",
            "141/141 [==============================] - 2s 16ms/step - loss: 0.0576 - accuracy: 0.9799 - val_loss: 0.6397 - val_accuracy: 0.8821\n",
            "Epoch 32/500\n",
            "141/141 [==============================] - ETA: 0s - loss: 0.0559 - accuracy: 0.9798\n",
            "Epoch 32: val_accuracy did not improve from 0.88533\n",
            "141/141 [==============================] - 2s 16ms/step - loss: 0.0559 - accuracy: 0.9798 - val_loss: 0.5955 - val_accuracy: 0.8742\n",
            "Epoch 33/500\n",
            "140/141 [============================>.] - ETA: 0s - loss: 0.0577 - accuracy: 0.9800\n",
            "Epoch 33: val_accuracy did not improve from 0.88533\n",
            "141/141 [==============================] - 2s 16ms/step - loss: 0.0576 - accuracy: 0.9799 - val_loss: 0.5704 - val_accuracy: 0.8759\n",
            "Epoch 34/500\n",
            "139/141 [============================>.] - ETA: 0s - loss: 0.0530 - accuracy: 0.9814\n",
            "Epoch 34: val_accuracy did not improve from 0.88533\n",
            "141/141 [==============================] - 2s 16ms/step - loss: 0.0526 - accuracy: 0.9815 - val_loss: 0.5785 - val_accuracy: 0.8803\n",
            "Epoch 35/500\n",
            "140/141 [============================>.] - ETA: 0s - loss: 0.0490 - accuracy: 0.9826\n",
            "Epoch 35: val_accuracy did not improve from 0.88533\n",
            "141/141 [==============================] - 2s 16ms/step - loss: 0.0489 - accuracy: 0.9826 - val_loss: 0.6009 - val_accuracy: 0.8792\n",
            "Epoch 36/500\n",
            "139/141 [============================>.] - ETA: 0s - loss: 0.0450 - accuracy: 0.9846\n",
            "Epoch 36: val_accuracy did not improve from 0.88533\n",
            "141/141 [==============================] - 2s 16ms/step - loss: 0.0450 - accuracy: 0.9846 - val_loss: 0.5928 - val_accuracy: 0.8739\n",
            "Epoch 37/500\n",
            "141/141 [==============================] - ETA: 0s - loss: 0.0536 - accuracy: 0.9809\n",
            "Epoch 37: val_accuracy did not improve from 0.88533\n",
            "141/141 [==============================] - 2s 16ms/step - loss: 0.0536 - accuracy: 0.9809 - val_loss: 0.6356 - val_accuracy: 0.8749\n",
            "Epoch 38/500\n",
            "140/141 [============================>.] - ETA: 0s - loss: 0.0575 - accuracy: 0.9805\n",
            "Epoch 38: val_accuracy did not improve from 0.88533\n",
            "141/141 [==============================] - 2s 16ms/step - loss: 0.0575 - accuracy: 0.9806 - val_loss: 0.6708 - val_accuracy: 0.8632\n",
            "Epoch 39/500\n",
            "139/141 [============================>.] - ETA: 0s - loss: 0.0494 - accuracy: 0.9826\n",
            "Epoch 39: val_accuracy did not improve from 0.88533\n",
            "141/141 [==============================] - 2s 16ms/step - loss: 0.0490 - accuracy: 0.9828 - val_loss: 0.5891 - val_accuracy: 0.8822\n",
            "Epoch 40/500\n",
            "140/141 [============================>.] - ETA: 0s - loss: 0.0429 - accuracy: 0.9849\n",
            "Epoch 40: val_accuracy did not improve from 0.88533\n",
            "141/141 [==============================] - 2s 17ms/step - loss: 0.0430 - accuracy: 0.9849 - val_loss: 0.6311 - val_accuracy: 0.8641\n",
            "Epoch 41/500\n",
            "138/141 [============================>.] - ETA: 0s - loss: 0.0437 - accuracy: 0.9842\n",
            "Epoch 41: val_accuracy improved from 0.88533 to 0.88756, saving model to model\\new_dense_nn_fashion_mnist\n"
          ]
        },
        {
          "name": "stderr",
          "output_type": "stream",
          "text": [
            "WARNING:absl:Found untraced functions such as _update_step_xla while saving (showing 1 of 1). These functions will not be directly callable after loading.\n"
          ]
        },
        {
          "name": "stdout",
          "output_type": "stream",
          "text": [
            "INFO:tensorflow:Assets written to: model\\new_dense_nn_fashion_mnist\\assets\n"
          ]
        },
        {
          "name": "stderr",
          "output_type": "stream",
          "text": [
            "INFO:tensorflow:Assets written to: model\\new_dense_nn_fashion_mnist\\assets\n"
          ]
        },
        {
          "name": "stdout",
          "output_type": "stream",
          "text": [
            "141/141 [==============================] - 4s 26ms/step - loss: 0.0438 - accuracy: 0.9842 - val_loss: 0.6415 - val_accuracy: 0.8876\n",
            "Epoch 42/500\n",
            "138/141 [============================>.] - ETA: 0s - loss: 0.0445 - accuracy: 0.9849\n",
            "Epoch 42: val_accuracy did not improve from 0.88756\n",
            "141/141 [==============================] - 2s 16ms/step - loss: 0.0445 - accuracy: 0.9848 - val_loss: 0.5744 - val_accuracy: 0.8801\n",
            "Epoch 43/500\n",
            "141/141 [==============================] - ETA: 0s - loss: 0.0416 - accuracy: 0.9852\n",
            "Epoch 43: val_accuracy did not improve from 0.88756\n",
            "141/141 [==============================] - 2s 17ms/step - loss: 0.0416 - accuracy: 0.9852 - val_loss: 0.7010 - val_accuracy: 0.8759\n",
            "Epoch 44/500\n",
            "139/141 [============================>.] - ETA: 0s - loss: 0.0513 - accuracy: 0.9817\n",
            "Epoch 44: val_accuracy did not improve from 0.88756\n",
            "141/141 [==============================] - 2s 16ms/step - loss: 0.0513 - accuracy: 0.9816 - val_loss: 0.6523 - val_accuracy: 0.8797\n",
            "Epoch 45/500\n",
            "139/141 [============================>.] - ETA: 0s - loss: 0.0467 - accuracy: 0.9835\n",
            "Epoch 45: val_accuracy did not improve from 0.88756\n",
            "141/141 [==============================] - 2s 16ms/step - loss: 0.0467 - accuracy: 0.9834 - val_loss: 0.6231 - val_accuracy: 0.8759\n",
            "Epoch 46/500\n",
            "140/141 [============================>.] - ETA: 0s - loss: 0.0454 - accuracy: 0.9835\n",
            "Epoch 46: val_accuracy did not improve from 0.88756\n",
            "141/141 [==============================] - 2s 16ms/step - loss: 0.0454 - accuracy: 0.9835 - val_loss: 0.6489 - val_accuracy: 0.8746\n",
            "Epoch 47/500\n",
            "139/141 [============================>.] - ETA: 0s - loss: 0.0485 - accuracy: 0.9824\n",
            "Epoch 47: val_accuracy did not improve from 0.88756\n",
            "141/141 [==============================] - 2s 16ms/step - loss: 0.0484 - accuracy: 0.9824 - val_loss: 0.6670 - val_accuracy: 0.8712\n",
            "Epoch 48/500\n",
            "140/141 [============================>.] - ETA: 0s - loss: 0.0477 - accuracy: 0.9833\n",
            "Epoch 48: val_accuracy did not improve from 0.88756\n",
            "141/141 [==============================] - 2s 16ms/step - loss: 0.0477 - accuracy: 0.9833 - val_loss: 0.6646 - val_accuracy: 0.8803\n",
            "Epoch 49/500\n",
            "141/141 [==============================] - ETA: 0s - loss: 0.0465 - accuracy: 0.9839\n",
            "Epoch 49: val_accuracy did not improve from 0.88756\n",
            "141/141 [==============================] - 2s 16ms/step - loss: 0.0465 - accuracy: 0.9839 - val_loss: 0.6502 - val_accuracy: 0.8837\n",
            "Epoch 50/500\n",
            "139/141 [============================>.] - ETA: 0s - loss: 0.0440 - accuracy: 0.9843\n",
            "Epoch 50: val_accuracy did not improve from 0.88756\n",
            "141/141 [==============================] - 2s 16ms/step - loss: 0.0439 - accuracy: 0.9843 - val_loss: 0.6214 - val_accuracy: 0.8823\n",
            "Epoch 51/500\n",
            "138/141 [============================>.] - ETA: 0s - loss: 0.0432 - accuracy: 0.9842\n",
            "Epoch 51: val_accuracy did not improve from 0.88756\n",
            "141/141 [==============================] - 2s 16ms/step - loss: 0.0432 - accuracy: 0.9842 - val_loss: 0.6726 - val_accuracy: 0.8806\n",
            "Epoch 52/500\n",
            "138/141 [============================>.] - ETA: 0s - loss: 0.0396 - accuracy: 0.9865\n",
            "Epoch 52: val_accuracy did not improve from 0.88756\n",
            "141/141 [==============================] - 2s 16ms/step - loss: 0.0395 - accuracy: 0.9865 - val_loss: 0.6759 - val_accuracy: 0.8817\n",
            "Epoch 53/500\n",
            "139/141 [============================>.] - ETA: 0s - loss: 0.0408 - accuracy: 0.9862\n",
            "Epoch 53: val_accuracy did not improve from 0.88756\n",
            "141/141 [==============================] - 2s 16ms/step - loss: 0.0409 - accuracy: 0.9862 - val_loss: 0.6527 - val_accuracy: 0.8774\n",
            "Epoch 54/500\n",
            "139/141 [============================>.] - ETA: 0s - loss: 0.0401 - accuracy: 0.9860\n",
            "Epoch 54: val_accuracy did not improve from 0.88756\n",
            "141/141 [==============================] - 2s 16ms/step - loss: 0.0407 - accuracy: 0.9858 - val_loss: 0.7668 - val_accuracy: 0.8757\n",
            "Epoch 55/500\n",
            "138/141 [============================>.] - ETA: 0s - loss: 0.0471 - accuracy: 0.9836\n",
            "Epoch 55: val_accuracy did not improve from 0.88756\n",
            "141/141 [==============================] - 2s 16ms/step - loss: 0.0468 - accuracy: 0.9836 - val_loss: 0.7795 - val_accuracy: 0.8757\n",
            "Epoch 56/500\n",
            "140/141 [============================>.] - ETA: 0s - loss: 0.0381 - accuracy: 0.9869\n",
            "Epoch 56: val_accuracy did not improve from 0.88756\n",
            "141/141 [==============================] - 2s 16ms/step - loss: 0.0381 - accuracy: 0.9869 - val_loss: 0.7309 - val_accuracy: 0.8780\n",
            "Epoch 57/500\n",
            "138/141 [============================>.] - ETA: 0s - loss: 0.0365 - accuracy: 0.9877\n",
            "Epoch 57: val_accuracy did not improve from 0.88756\n",
            "141/141 [==============================] - 2s 17ms/step - loss: 0.0364 - accuracy: 0.9878 - val_loss: 0.6941 - val_accuracy: 0.8794\n",
            "Epoch 58/500\n",
            "139/141 [============================>.] - ETA: 0s - loss: 0.0425 - accuracy: 0.9851\n",
            "Epoch 58: val_accuracy did not improve from 0.88756\n",
            "141/141 [==============================] - 2s 16ms/step - loss: 0.0428 - accuracy: 0.9850 - val_loss: 0.7183 - val_accuracy: 0.8832\n",
            "Epoch 59/500\n",
            "139/141 [============================>.] - ETA: 0s - loss: 0.0441 - accuracy: 0.9846\n",
            "Epoch 59: val_accuracy did not improve from 0.88756\n",
            "141/141 [==============================] - 2s 17ms/step - loss: 0.0439 - accuracy: 0.9847 - val_loss: 0.6313 - val_accuracy: 0.8826\n",
            "Epoch 60/500\n",
            "139/141 [============================>.] - ETA: 0s - loss: 0.0415 - accuracy: 0.9854\n",
            "Epoch 60: val_accuracy did not improve from 0.88756\n",
            "141/141 [==============================] - 2s 17ms/step - loss: 0.0415 - accuracy: 0.9853 - val_loss: 0.6189 - val_accuracy: 0.8852\n",
            "Epoch 61/500\n",
            "141/141 [==============================] - ETA: 0s - loss: 0.0388 - accuracy: 0.9856\n",
            "Epoch 61: val_accuracy did not improve from 0.88756\n",
            "141/141 [==============================] - 2s 16ms/step - loss: 0.0388 - accuracy: 0.9856 - val_loss: 0.6474 - val_accuracy: 0.8846\n",
            "Epoch 62/500\n",
            "141/141 [==============================] - ETA: 0s - loss: 0.0398 - accuracy: 0.9863\n",
            "Epoch 62: val_accuracy did not improve from 0.88756\n",
            "141/141 [==============================] - 2s 16ms/step - loss: 0.0398 - accuracy: 0.9863 - val_loss: 0.7264 - val_accuracy: 0.8777\n",
            "Epoch 63/500\n",
            "141/141 [==============================] - ETA: 0s - loss: 0.0402 - accuracy: 0.9857\n",
            "Epoch 63: val_accuracy did not improve from 0.88756\n",
            "141/141 [==============================] - 2s 16ms/step - loss: 0.0402 - accuracy: 0.9857 - val_loss: 0.6480 - val_accuracy: 0.8808\n",
            "Epoch 64/500\n",
            "140/141 [============================>.] - ETA: 0s - loss: 0.0371 - accuracy: 0.9862\n",
            "Epoch 64: val_accuracy did not improve from 0.88756\n",
            "141/141 [==============================] - 2s 16ms/step - loss: 0.0370 - accuracy: 0.9862 - val_loss: 0.6651 - val_accuracy: 0.8819\n",
            "Epoch 65/500\n",
            "139/141 [============================>.] - ETA: 0s - loss: 0.0337 - accuracy: 0.9883\n",
            "Epoch 65: val_accuracy did not improve from 0.88756\n",
            "141/141 [==============================] - 2s 16ms/step - loss: 0.0336 - accuracy: 0.9883 - val_loss: 0.6754 - val_accuracy: 0.8832\n",
            "Epoch 66/500\n",
            "141/141 [==============================] - ETA: 0s - loss: 0.0337 - accuracy: 0.9879\n",
            "Epoch 66: val_accuracy did not improve from 0.88756\n",
            "141/141 [==============================] - 2s 16ms/step - loss: 0.0337 - accuracy: 0.9879 - val_loss: 0.7044 - val_accuracy: 0.8804\n",
            "Epoch 67/500\n",
            "139/141 [============================>.] - ETA: 0s - loss: 0.0366 - accuracy: 0.9879\n",
            "Epoch 67: val_accuracy did not improve from 0.88756\n",
            "141/141 [==============================] - 2s 17ms/step - loss: 0.0365 - accuracy: 0.9879 - val_loss: 0.7068 - val_accuracy: 0.8833\n",
            "Epoch 68/500\n",
            "141/141 [==============================] - ETA: 0s - loss: 0.0355 - accuracy: 0.9867\n",
            "Epoch 68: val_accuracy did not improve from 0.88756\n",
            "141/141 [==============================] - 2s 17ms/step - loss: 0.0355 - accuracy: 0.9867 - val_loss: 0.7135 - val_accuracy: 0.8796\n",
            "Epoch 69/500\n",
            "138/141 [============================>.] - ETA: 0s - loss: 0.0399 - accuracy: 0.9856\n",
            "Epoch 69: val_accuracy did not improve from 0.88756\n",
            "141/141 [==============================] - 2s 17ms/step - loss: 0.0401 - accuracy: 0.9856 - val_loss: 0.7160 - val_accuracy: 0.8776\n",
            "Epoch 70/500\n",
            "139/141 [============================>.] - ETA: 0s - loss: 0.0319 - accuracy: 0.9892\n",
            "Epoch 70: val_accuracy did not improve from 0.88756\n",
            "141/141 [==============================] - 2s 17ms/step - loss: 0.0317 - accuracy: 0.9893 - val_loss: 0.6974 - val_accuracy: 0.8842\n",
            "Epoch 71/500\n",
            "139/141 [============================>.] - ETA: 0s - loss: 0.0364 - accuracy: 0.9862\n",
            "Epoch 71: val_accuracy did not improve from 0.88756\n",
            "141/141 [==============================] - 2s 16ms/step - loss: 0.0365 - accuracy: 0.9862 - val_loss: 0.6839 - val_accuracy: 0.8796\n",
            "Epoch 72/500\n",
            "141/141 [==============================] - ETA: 0s - loss: 0.0373 - accuracy: 0.9871\n",
            "Epoch 72: val_accuracy did not improve from 0.88756\n",
            "141/141 [==============================] - 2s 17ms/step - loss: 0.0373 - accuracy: 0.9871 - val_loss: 0.7504 - val_accuracy: 0.8766\n",
            "Epoch 73/500\n",
            "138/141 [============================>.] - ETA: 0s - loss: 0.0361 - accuracy: 0.9875\n",
            "Epoch 73: val_accuracy did not improve from 0.88756\n",
            "141/141 [==============================] - 2s 17ms/step - loss: 0.0361 - accuracy: 0.9876 - val_loss: 0.7294 - val_accuracy: 0.8817\n",
            "Epoch 74/500\n",
            "141/141 [==============================] - ETA: 0s - loss: 0.0334 - accuracy: 0.9875\n",
            "Epoch 74: val_accuracy did not improve from 0.88756\n",
            "141/141 [==============================] - 2s 17ms/step - loss: 0.0334 - accuracy: 0.9875 - val_loss: 0.6949 - val_accuracy: 0.8741\n",
            "Epoch 75/500\n",
            "139/141 [============================>.] - ETA: 0s - loss: 0.0304 - accuracy: 0.9895\n",
            "Epoch 75: val_accuracy did not improve from 0.88756\n",
            "141/141 [==============================] - 2s 17ms/step - loss: 0.0303 - accuracy: 0.9895 - val_loss: 0.6842 - val_accuracy: 0.8817\n",
            "Epoch 76/500\n",
            "139/141 [============================>.] - ETA: 0s - loss: 0.0303 - accuracy: 0.9892\n",
            "Epoch 76: val_accuracy did not improve from 0.88756\n",
            "141/141 [==============================] - 2s 17ms/step - loss: 0.0306 - accuracy: 0.9891 - val_loss: 0.7088 - val_accuracy: 0.8851\n",
            "Epoch 77/500\n",
            "138/141 [============================>.] - ETA: 0s - loss: 0.0327 - accuracy: 0.9885\n",
            "Epoch 77: val_accuracy did not improve from 0.88756\n",
            "141/141 [==============================] - 2s 17ms/step - loss: 0.0328 - accuracy: 0.9885 - val_loss: 0.7568 - val_accuracy: 0.8728\n",
            "Epoch 78/500\n",
            "140/141 [============================>.] - ETA: 0s - loss: 0.0353 - accuracy: 0.9880\n",
            "Epoch 78: val_accuracy did not improve from 0.88756\n",
            "141/141 [==============================] - 2s 17ms/step - loss: 0.0352 - accuracy: 0.9881 - val_loss: 0.7144 - val_accuracy: 0.8767\n",
            "Epoch 79/500\n",
            "141/141 [==============================] - ETA: 0s - loss: 0.0397 - accuracy: 0.9860\n",
            "Epoch 79: val_accuracy did not improve from 0.88756\n",
            "141/141 [==============================] - 2s 16ms/step - loss: 0.0397 - accuracy: 0.9860 - val_loss: 0.6969 - val_accuracy: 0.8833\n",
            "Epoch 80/500\n",
            "140/141 [============================>.] - ETA: 0s - loss: 0.0304 - accuracy: 0.9898\n",
            "Epoch 80: val_accuracy did not improve from 0.88756\n",
            "141/141 [==============================] - 2s 17ms/step - loss: 0.0304 - accuracy: 0.9898 - val_loss: 0.7135 - val_accuracy: 0.8838\n",
            "Epoch 81/500\n",
            "139/141 [============================>.] - ETA: 0s - loss: 0.0326 - accuracy: 0.9881\n",
            "Epoch 81: val_accuracy did not improve from 0.88756\n",
            "141/141 [==============================] - 2s 17ms/step - loss: 0.0324 - accuracy: 0.9882 - val_loss: 0.7540 - val_accuracy: 0.8747\n",
            "Epoch 82/500\n",
            "138/141 [============================>.] - ETA: 0s - loss: 0.0313 - accuracy: 0.9886\n",
            "Epoch 82: val_accuracy did not improve from 0.88756\n",
            "141/141 [==============================] - 2s 17ms/step - loss: 0.0312 - accuracy: 0.9887 - val_loss: 0.7222 - val_accuracy: 0.8758\n",
            "Epoch 83/500\n",
            "138/141 [============================>.] - ETA: 0s - loss: 0.0281 - accuracy: 0.9900\n",
            "Epoch 83: val_accuracy did not improve from 0.88756\n",
            "141/141 [==============================] - 2s 17ms/step - loss: 0.0286 - accuracy: 0.9899 - val_loss: 0.7363 - val_accuracy: 0.8779\n",
            "Epoch 84/500\n",
            "141/141 [==============================] - ETA: 0s - loss: 0.0305 - accuracy: 0.9892\n",
            "Epoch 84: val_accuracy did not improve from 0.88756\n",
            "141/141 [==============================] - 2s 17ms/step - loss: 0.0305 - accuracy: 0.9892 - val_loss: 0.7467 - val_accuracy: 0.8751\n",
            "Epoch 85/500\n",
            "139/141 [============================>.] - ETA: 0s - loss: 0.0319 - accuracy: 0.9889\n",
            "Epoch 85: val_accuracy did not improve from 0.88756\n",
            "141/141 [==============================] - 2s 17ms/step - loss: 0.0319 - accuracy: 0.9888 - val_loss: 0.7259 - val_accuracy: 0.8856\n",
            "Epoch 86/500\n",
            "140/141 [============================>.] - ETA: 0s - loss: 0.0298 - accuracy: 0.9893\n",
            "Epoch 86: val_accuracy did not improve from 0.88756\n",
            "141/141 [==============================] - 2s 17ms/step - loss: 0.0297 - accuracy: 0.9893 - val_loss: 0.7419 - val_accuracy: 0.8827\n",
            "Epoch 87/500\n",
            "140/141 [============================>.] - ETA: 0s - loss: 0.0300 - accuracy: 0.9892\n",
            "Epoch 87: val_accuracy did not improve from 0.88756\n",
            "141/141 [==============================] - 2s 17ms/step - loss: 0.0303 - accuracy: 0.9891 - val_loss: 0.7160 - val_accuracy: 0.8806\n",
            "Epoch 88/500\n",
            "140/141 [============================>.] - ETA: 0s - loss: 0.0317 - accuracy: 0.9890\n",
            "Epoch 88: val_accuracy did not improve from 0.88756\n",
            "141/141 [==============================] - 2s 17ms/step - loss: 0.0318 - accuracy: 0.9890 - val_loss: 0.7329 - val_accuracy: 0.8763\n",
            "Epoch 89/500\n",
            "138/141 [============================>.] - ETA: 0s - loss: 0.0318 - accuracy: 0.9889\n",
            "Epoch 89: val_accuracy did not improve from 0.88756\n",
            "141/141 [==============================] - 2s 17ms/step - loss: 0.0319 - accuracy: 0.9888 - val_loss: 0.7096 - val_accuracy: 0.8813\n",
            "Epoch 90/500\n",
            "141/141 [==============================] - ETA: 0s - loss: 0.0325 - accuracy: 0.9888\n",
            "Epoch 90: val_accuracy did not improve from 0.88756\n",
            "141/141 [==============================] - 2s 17ms/step - loss: 0.0325 - accuracy: 0.9888 - val_loss: 0.7635 - val_accuracy: 0.8821\n",
            "Epoch 91/500\n",
            "139/141 [============================>.] - ETA: 0s - loss: 0.0330 - accuracy: 0.9882\n",
            "Epoch 91: val_accuracy did not improve from 0.88756\n",
            "141/141 [==============================] - 2s 17ms/step - loss: 0.0327 - accuracy: 0.9883 - val_loss: 0.7810 - val_accuracy: 0.8817\n",
            "Epoch 92/500\n",
            "140/141 [============================>.] - ETA: 0s - loss: 0.0275 - accuracy: 0.9904\n",
            "Epoch 92: val_accuracy did not improve from 0.88756\n",
            "141/141 [==============================] - 2s 17ms/step - loss: 0.0274 - accuracy: 0.9904 - val_loss: 0.7479 - val_accuracy: 0.8827\n",
            "Epoch 93/500\n",
            "139/141 [============================>.] - ETA: 0s - loss: 0.0310 - accuracy: 0.9892\n",
            "Epoch 93: val_accuracy did not improve from 0.88756\n",
            "141/141 [==============================] - 2s 18ms/step - loss: 0.0311 - accuracy: 0.9892 - val_loss: 0.7666 - val_accuracy: 0.8757\n",
            "Epoch 94/500\n",
            "141/141 [==============================] - ETA: 0s - loss: 0.0313 - accuracy: 0.9892\n",
            "Epoch 94: val_accuracy did not improve from 0.88756\n",
            "141/141 [==============================] - 2s 17ms/step - loss: 0.0313 - accuracy: 0.9892 - val_loss: 0.7700 - val_accuracy: 0.8787\n",
            "Epoch 95/500\n",
            "141/141 [==============================] - ETA: 0s - loss: 0.0265 - accuracy: 0.9908\n",
            "Epoch 95: val_accuracy did not improve from 0.88756\n",
            "141/141 [==============================] - 2s 17ms/step - loss: 0.0265 - accuracy: 0.9908 - val_loss: 0.7305 - val_accuracy: 0.8761\n",
            "Epoch 96/500\n",
            "141/141 [==============================] - ETA: 0s - loss: 0.0246 - accuracy: 0.9912\n",
            "Epoch 96: val_accuracy did not improve from 0.88756\n",
            "141/141 [==============================] - 2s 17ms/step - loss: 0.0246 - accuracy: 0.9912 - val_loss: 0.7859 - val_accuracy: 0.8823\n",
            "Epoch 97/500\n",
            "140/141 [============================>.] - ETA: 0s - loss: 0.0337 - accuracy: 0.9884\n",
            "Epoch 97: val_accuracy did not improve from 0.88756\n",
            "141/141 [==============================] - 2s 17ms/step - loss: 0.0336 - accuracy: 0.9885 - val_loss: 0.6886 - val_accuracy: 0.8768\n",
            "Epoch 98/500\n",
            "139/141 [============================>.] - ETA: 0s - loss: 0.0311 - accuracy: 0.9886\n",
            "Epoch 98: val_accuracy did not improve from 0.88756\n",
            "141/141 [==============================] - 2s 17ms/step - loss: 0.0312 - accuracy: 0.9886 - val_loss: 0.7261 - val_accuracy: 0.8820\n",
            "Epoch 99/500\n",
            "140/141 [============================>.] - ETA: 0s - loss: 0.0299 - accuracy: 0.9902\n",
            "Epoch 99: val_accuracy did not improve from 0.88756\n",
            "141/141 [==============================] - 2s 17ms/step - loss: 0.0300 - accuracy: 0.9902 - val_loss: 0.7388 - val_accuracy: 0.8752\n",
            "Epoch 100/500\n",
            "139/141 [============================>.] - ETA: 0s - loss: 0.0302 - accuracy: 0.9896\n",
            "Epoch 100: val_accuracy did not improve from 0.88756\n",
            "141/141 [==============================] - 2s 17ms/step - loss: 0.0301 - accuracy: 0.9896 - val_loss: 0.7979 - val_accuracy: 0.8777\n",
            "Epoch 101/500\n",
            "141/141 [==============================] - ETA: 0s - loss: 0.0355 - accuracy: 0.9881\n",
            "Epoch 101: val_accuracy did not improve from 0.88756\n",
            "141/141 [==============================] - 2s 17ms/step - loss: 0.0355 - accuracy: 0.9881 - val_loss: 0.8296 - val_accuracy: 0.8772\n",
            "Epoch 102/500\n",
            "138/141 [============================>.] - ETA: 0s - loss: 0.0353 - accuracy: 0.9879\n",
            "Epoch 102: val_accuracy did not improve from 0.88756\n",
            "141/141 [==============================] - 2s 17ms/step - loss: 0.0355 - accuracy: 0.9878 - val_loss: 0.7715 - val_accuracy: 0.8803\n",
            "Epoch 103/500\n",
            "138/141 [============================>.] - ETA: 0s - loss: 0.0282 - accuracy: 0.9891\n",
            "Epoch 103: val_accuracy did not improve from 0.88756\n",
            "141/141 [==============================] - 2s 17ms/step - loss: 0.0285 - accuracy: 0.9890 - val_loss: 0.7324 - val_accuracy: 0.8752\n",
            "Epoch 104/500\n",
            "138/141 [============================>.] - ETA: 0s - loss: 0.0311 - accuracy: 0.9898\n",
            "Epoch 104: val_accuracy did not improve from 0.88756\n",
            "141/141 [==============================] - 2s 17ms/step - loss: 0.0310 - accuracy: 0.9898 - val_loss: 0.7351 - val_accuracy: 0.8841\n",
            "Epoch 105/500\n",
            "141/141 [==============================] - ETA: 0s - loss: 0.0276 - accuracy: 0.9907\n",
            "Epoch 105: val_accuracy did not improve from 0.88756\n",
            "141/141 [==============================] - 2s 17ms/step - loss: 0.0276 - accuracy: 0.9907 - val_loss: 0.7115 - val_accuracy: 0.8831\n",
            "Epoch 106/500\n",
            "138/141 [============================>.] - ETA: 0s - loss: 0.0297 - accuracy: 0.9898\n",
            "Epoch 106: val_accuracy did not improve from 0.88756\n",
            "141/141 [==============================] - 2s 17ms/step - loss: 0.0295 - accuracy: 0.9898 - val_loss: 0.7214 - val_accuracy: 0.8836\n",
            "Epoch 107/500\n",
            "140/141 [============================>.] - ETA: 0s - loss: 0.0260 - accuracy: 0.9909\n",
            "Epoch 107: val_accuracy did not improve from 0.88756\n",
            "141/141 [==============================] - 2s 17ms/step - loss: 0.0260 - accuracy: 0.9908 - val_loss: 0.7415 - val_accuracy: 0.8801\n",
            "Epoch 108/500\n",
            "139/141 [============================>.] - ETA: 0s - loss: 0.0286 - accuracy: 0.9906\n",
            "Epoch 108: val_accuracy did not improve from 0.88756\n",
            "141/141 [==============================] - 2s 17ms/step - loss: 0.0289 - accuracy: 0.9904 - val_loss: 0.7273 - val_accuracy: 0.8809\n",
            "Epoch 109/500\n",
            "140/141 [============================>.] - ETA: 0s - loss: 0.0298 - accuracy: 0.9900\n",
            "Epoch 109: val_accuracy did not improve from 0.88756\n",
            "141/141 [==============================] - 2s 17ms/step - loss: 0.0297 - accuracy: 0.9900 - val_loss: 0.7606 - val_accuracy: 0.8798\n",
            "Epoch 110/500\n",
            "139/141 [============================>.] - ETA: 0s - loss: 0.0300 - accuracy: 0.9899\n",
            "Epoch 110: val_accuracy did not improve from 0.88756\n",
            "141/141 [==============================] - 2s 17ms/step - loss: 0.0300 - accuracy: 0.9899 - val_loss: 0.7223 - val_accuracy: 0.8751\n",
            "Epoch 111/500\n",
            "138/141 [============================>.] - ETA: 0s - loss: 0.0278 - accuracy: 0.9911\n",
            "Epoch 111: val_accuracy did not improve from 0.88756\n",
            "141/141 [==============================] - 2s 17ms/step - loss: 0.0277 - accuracy: 0.9911 - val_loss: 0.7819 - val_accuracy: 0.8821\n",
            "Epoch 112/500\n",
            "141/141 [==============================] - ETA: 0s - loss: 0.0262 - accuracy: 0.9907\n",
            "Epoch 112: val_accuracy did not improve from 0.88756\n",
            "141/141 [==============================] - 2s 17ms/step - loss: 0.0262 - accuracy: 0.9907 - val_loss: 0.7859 - val_accuracy: 0.8797\n",
            "Epoch 113/500\n",
            "138/141 [============================>.] - ETA: 0s - loss: 0.0266 - accuracy: 0.9913\n",
            "Epoch 113: val_accuracy did not improve from 0.88756\n",
            "141/141 [==============================] - 2s 17ms/step - loss: 0.0263 - accuracy: 0.9914 - val_loss: 0.7588 - val_accuracy: 0.8862\n",
            "Epoch 114/500\n",
            "141/141 [==============================] - ETA: 0s - loss: 0.0266 - accuracy: 0.9905\n",
            "Epoch 114: val_accuracy did not improve from 0.88756\n",
            "141/141 [==============================] - 2s 17ms/step - loss: 0.0266 - accuracy: 0.9905 - val_loss: 0.8182 - val_accuracy: 0.8788\n",
            "Epoch 115/500\n",
            "139/141 [============================>.] - ETA: 0s - loss: 0.0256 - accuracy: 0.9909\n",
            "Epoch 115: val_accuracy did not improve from 0.88756\n",
            "141/141 [==============================] - 2s 17ms/step - loss: 0.0260 - accuracy: 0.9909 - val_loss: 0.7908 - val_accuracy: 0.8807\n",
            "Epoch 116/500\n",
            "139/141 [============================>.] - ETA: 0s - loss: 0.0258 - accuracy: 0.9913\n",
            "Epoch 116: val_accuracy did not improve from 0.88756\n",
            "141/141 [==============================] - 2s 17ms/step - loss: 0.0257 - accuracy: 0.9913 - val_loss: 0.7856 - val_accuracy: 0.8816\n",
            "Epoch 117/500\n",
            "139/141 [============================>.] - ETA: 0s - loss: 0.0234 - accuracy: 0.9922\n",
            "Epoch 117: val_accuracy did not improve from 0.88756\n",
            "141/141 [==============================] - 2s 17ms/step - loss: 0.0233 - accuracy: 0.9922 - val_loss: 0.7786 - val_accuracy: 0.8876\n",
            "Epoch 118/500\n",
            "141/141 [==============================] - ETA: 0s - loss: 0.0242 - accuracy: 0.9912\n",
            "Epoch 118: val_accuracy did not improve from 0.88756\n",
            "141/141 [==============================] - 2s 17ms/step - loss: 0.0242 - accuracy: 0.9912 - val_loss: 0.8671 - val_accuracy: 0.8780\n",
            "Epoch 119/500\n",
            "141/141 [==============================] - ETA: 0s - loss: 0.0269 - accuracy: 0.9902\n",
            "Epoch 119: val_accuracy did not improve from 0.88756\n",
            "141/141 [==============================] - 2s 17ms/step - loss: 0.0269 - accuracy: 0.9902 - val_loss: 0.7334 - val_accuracy: 0.8819\n",
            "Epoch 120/500\n",
            "141/141 [==============================] - ETA: 0s - loss: 0.0255 - accuracy: 0.9908\n",
            "Epoch 120: val_accuracy did not improve from 0.88756\n",
            "141/141 [==============================] - 2s 17ms/step - loss: 0.0255 - accuracy: 0.9908 - val_loss: 0.8111 - val_accuracy: 0.8812\n",
            "Epoch 121/500\n",
            "140/141 [============================>.] - ETA: 0s - loss: 0.0241 - accuracy: 0.9919\n",
            "Epoch 121: val_accuracy did not improve from 0.88756\n",
            "141/141 [==============================] - 2s 17ms/step - loss: 0.0241 - accuracy: 0.9919 - val_loss: 0.7992 - val_accuracy: 0.8797\n",
            "Epoch 122/500\n",
            "140/141 [============================>.] - ETA: 0s - loss: 0.0235 - accuracy: 0.9914\n",
            "Epoch 122: val_accuracy did not improve from 0.88756\n",
            "141/141 [==============================] - 2s 17ms/step - loss: 0.0234 - accuracy: 0.9914 - val_loss: 0.7902 - val_accuracy: 0.8790\n",
            "Epoch 123/500\n",
            "140/141 [============================>.] - ETA: 0s - loss: 0.0274 - accuracy: 0.9904\n",
            "Epoch 123: val_accuracy did not improve from 0.88756\n",
            "141/141 [==============================] - 2s 17ms/step - loss: 0.0273 - accuracy: 0.9905 - val_loss: 0.7638 - val_accuracy: 0.8793\n",
            "Epoch 124/500\n",
            "140/141 [============================>.] - ETA: 0s - loss: 0.0216 - accuracy: 0.9924\n",
            "Epoch 124: val_accuracy did not improve from 0.88756\n",
            "141/141 [==============================] - 2s 18ms/step - loss: 0.0217 - accuracy: 0.9924 - val_loss: 0.8072 - val_accuracy: 0.8861\n",
            "Epoch 125/500\n",
            "141/141 [==============================] - ETA: 0s - loss: 0.0225 - accuracy: 0.9926\n",
            "Epoch 125: val_accuracy did not improve from 0.88756\n",
            "141/141 [==============================] - 2s 17ms/step - loss: 0.0225 - accuracy: 0.9926 - val_loss: 0.7622 - val_accuracy: 0.8840\n",
            "Epoch 126/500\n",
            "139/141 [============================>.] - ETA: 0s - loss: 0.0245 - accuracy: 0.9919\n",
            "Epoch 126: val_accuracy did not improve from 0.88756\n",
            "141/141 [==============================] - 2s 18ms/step - loss: 0.0244 - accuracy: 0.9919 - val_loss: 0.7516 - val_accuracy: 0.8827\n",
            "Epoch 127/500\n",
            "139/141 [============================>.] - ETA: 0s - loss: 0.0221 - accuracy: 0.9922\n",
            "Epoch 127: val_accuracy did not improve from 0.88756\n",
            "141/141 [==============================] - 2s 18ms/step - loss: 0.0224 - accuracy: 0.9922 - val_loss: 0.7806 - val_accuracy: 0.8808\n",
            "Epoch 128/500\n",
            "140/141 [============================>.] - ETA: 0s - loss: 0.0274 - accuracy: 0.9907\n",
            "Epoch 128: val_accuracy did not improve from 0.88756\n",
            "141/141 [==============================] - 3s 18ms/step - loss: 0.0273 - accuracy: 0.9907 - val_loss: 0.8058 - val_accuracy: 0.8822\n",
            "Epoch 129/500\n",
            "138/141 [============================>.] - ETA: 0s - loss: 0.0278 - accuracy: 0.9901\n",
            "Epoch 129: val_accuracy did not improve from 0.88756\n",
            "141/141 [==============================] - 3s 19ms/step - loss: 0.0280 - accuracy: 0.9902 - val_loss: 0.7347 - val_accuracy: 0.8818\n",
            "Epoch 130/500\n",
            "139/141 [============================>.] - ETA: 0s - loss: 0.0275 - accuracy: 0.9902\n",
            "Epoch 130: val_accuracy did not improve from 0.88756\n",
            "141/141 [==============================] - 2s 17ms/step - loss: 0.0280 - accuracy: 0.9901 - val_loss: 0.8299 - val_accuracy: 0.8748\n",
            "Epoch 131/500\n",
            "139/141 [============================>.] - ETA: 0s - loss: 0.0281 - accuracy: 0.9896\n",
            "Epoch 131: val_accuracy did not improve from 0.88756\n",
            "141/141 [==============================] - 2s 17ms/step - loss: 0.0279 - accuracy: 0.9897 - val_loss: 0.7523 - val_accuracy: 0.8828\n",
            "Epoch 132/500\n",
            "140/141 [============================>.] - ETA: 0s - loss: 0.0270 - accuracy: 0.9916\n",
            "Epoch 132: val_accuracy did not improve from 0.88756\n",
            "141/141 [==============================] - 2s 18ms/step - loss: 0.0270 - accuracy: 0.9916 - val_loss: 0.8388 - val_accuracy: 0.8790\n",
            "Epoch 133/500\n",
            "140/141 [============================>.] - ETA: 0s - loss: 0.0238 - accuracy: 0.9923\n",
            "Epoch 133: val_accuracy did not improve from 0.88756\n",
            "141/141 [==============================] - 2s 17ms/step - loss: 0.0238 - accuracy: 0.9923 - val_loss: 0.8613 - val_accuracy: 0.8773\n",
            "Epoch 134/500\n",
            "139/141 [============================>.] - ETA: 0s - loss: 0.0222 - accuracy: 0.9926\n",
            "Epoch 134: val_accuracy did not improve from 0.88756\n",
            "141/141 [==============================] - 2s 17ms/step - loss: 0.0222 - accuracy: 0.9925 - val_loss: 0.7916 - val_accuracy: 0.8819\n",
            "Epoch 135/500\n",
            "140/141 [============================>.] - ETA: 0s - loss: 0.0215 - accuracy: 0.9927\n",
            "Epoch 135: val_accuracy did not improve from 0.88756\n",
            "141/141 [==============================] - 2s 17ms/step - loss: 0.0215 - accuracy: 0.9927 - val_loss: 0.7896 - val_accuracy: 0.8792\n",
            "Epoch 136/500\n",
            "140/141 [============================>.] - ETA: 0s - loss: 0.0201 - accuracy: 0.9933\n",
            "Epoch 136: val_accuracy did not improve from 0.88756\n",
            "141/141 [==============================] - 2s 17ms/step - loss: 0.0201 - accuracy: 0.9933 - val_loss: 0.8025 - val_accuracy: 0.8847\n",
            "Epoch 137/500\n",
            "140/141 [============================>.] - ETA: 0s - loss: 0.0210 - accuracy: 0.9926\n",
            "Epoch 137: val_accuracy did not improve from 0.88756\n",
            "141/141 [==============================] - 2s 17ms/step - loss: 0.0210 - accuracy: 0.9926 - val_loss: 0.8226 - val_accuracy: 0.8823\n",
            "Epoch 138/500\n",
            "141/141 [==============================] - ETA: 0s - loss: 0.0279 - accuracy: 0.9904\n",
            "Epoch 138: val_accuracy did not improve from 0.88756\n",
            "141/141 [==============================] - 2s 17ms/step - loss: 0.0279 - accuracy: 0.9904 - val_loss: 0.7357 - val_accuracy: 0.8820\n",
            "Epoch 139/500\n",
            "139/141 [============================>.] - ETA: 0s - loss: 0.0281 - accuracy: 0.9903\n",
            "Epoch 139: val_accuracy did not improve from 0.88756\n",
            "141/141 [==============================] - 2s 17ms/step - loss: 0.0279 - accuracy: 0.9904 - val_loss: 0.8044 - val_accuracy: 0.8811\n",
            "Epoch 140/500\n",
            "138/141 [============================>.] - ETA: 0s - loss: 0.0262 - accuracy: 0.9908\n",
            "Epoch 140: val_accuracy did not improve from 0.88756\n",
            "141/141 [==============================] - 2s 17ms/step - loss: 0.0259 - accuracy: 0.9909 - val_loss: 0.8509 - val_accuracy: 0.8836\n",
            "Epoch 141/500\n",
            "140/141 [============================>.] - ETA: 0s - loss: 0.0289 - accuracy: 0.9902\n",
            "Epoch 141: val_accuracy did not improve from 0.88756\n",
            "141/141 [==============================] - 2s 18ms/step - loss: 0.0289 - accuracy: 0.9902 - val_loss: 0.8666 - val_accuracy: 0.8849\n",
            "Epoch 142/500\n",
            "140/141 [============================>.] - ETA: 0s - loss: 0.0294 - accuracy: 0.9899\n",
            "Epoch 142: val_accuracy did not improve from 0.88756\n",
            "141/141 [==============================] - 3s 18ms/step - loss: 0.0294 - accuracy: 0.9899 - val_loss: 0.7952 - val_accuracy: 0.8820\n",
            "Epoch 143/500\n",
            "141/141 [==============================] - ETA: 0s - loss: 0.0249 - accuracy: 0.9913\n",
            "Epoch 143: val_accuracy did not improve from 0.88756\n",
            "141/141 [==============================] - 2s 18ms/step - loss: 0.0249 - accuracy: 0.9913 - val_loss: 0.7659 - val_accuracy: 0.8840\n",
            "Epoch 144/500\n",
            "139/141 [============================>.] - ETA: 0s - loss: 0.0195 - accuracy: 0.9933\n",
            "Epoch 144: val_accuracy did not improve from 0.88756\n",
            "141/141 [==============================] - 3s 18ms/step - loss: 0.0196 - accuracy: 0.9933 - val_loss: 0.8674 - val_accuracy: 0.8833\n",
            "Epoch 145/500\n",
            "138/141 [============================>.] - ETA: 0s - loss: 0.0215 - accuracy: 0.9928\n",
            "Epoch 145: val_accuracy did not improve from 0.88756\n",
            "141/141 [==============================] - 3s 18ms/step - loss: 0.0214 - accuracy: 0.9928 - val_loss: 0.7791 - val_accuracy: 0.8858\n",
            "Epoch 146/500\n",
            "138/141 [============================>.] - ETA: 0s - loss: 0.0229 - accuracy: 0.9920\n",
            "Epoch 146: val_accuracy did not improve from 0.88756\n",
            "141/141 [==============================] - 3s 18ms/step - loss: 0.0228 - accuracy: 0.9920 - val_loss: 0.9093 - val_accuracy: 0.8796\n",
            "Epoch 147/500\n",
            "139/141 [============================>.] - ETA: 0s - loss: 0.0265 - accuracy: 0.9913\n",
            "Epoch 147: val_accuracy did not improve from 0.88756\n",
            "141/141 [==============================] - 3s 18ms/step - loss: 0.0264 - accuracy: 0.9914 - val_loss: 0.7770 - val_accuracy: 0.8847\n",
            "Epoch 148/500\n",
            "139/141 [============================>.] - ETA: 0s - loss: 0.0207 - accuracy: 0.9924\n",
            "Epoch 148: val_accuracy did not improve from 0.88756\n",
            "141/141 [==============================] - 3s 18ms/step - loss: 0.0208 - accuracy: 0.9924 - val_loss: 0.8846 - val_accuracy: 0.8790\n",
            "Epoch 149/500\n",
            "140/141 [============================>.] - ETA: 0s - loss: 0.0255 - accuracy: 0.9907\n",
            "Epoch 149: val_accuracy did not improve from 0.88756\n",
            "141/141 [==============================] - 3s 18ms/step - loss: 0.0254 - accuracy: 0.9907 - val_loss: 0.8064 - val_accuracy: 0.8813\n",
            "Epoch 150/500\n",
            "140/141 [============================>.] - ETA: 0s - loss: 0.0270 - accuracy: 0.9909\n",
            "Epoch 150: val_accuracy did not improve from 0.88756\n",
            "141/141 [==============================] - 2s 17ms/step - loss: 0.0270 - accuracy: 0.9909 - val_loss: 0.8310 - val_accuracy: 0.8824\n",
            "Epoch 151/500\n",
            "139/141 [============================>.] - ETA: 0s - loss: 0.0279 - accuracy: 0.9901\n",
            "Epoch 151: val_accuracy did not improve from 0.88756\n",
            "141/141 [==============================] - 3s 18ms/step - loss: 0.0281 - accuracy: 0.9900 - val_loss: 0.8587 - val_accuracy: 0.8740\n",
            "Epoch 152/500\n",
            "139/141 [============================>.] - ETA: 0s - loss: 0.0246 - accuracy: 0.9917\n",
            "Epoch 152: val_accuracy did not improve from 0.88756\n",
            "141/141 [==============================] - 5s 34ms/step - loss: 0.0249 - accuracy: 0.9916 - val_loss: 0.7178 - val_accuracy: 0.8826\n",
            "Epoch 153/500\n",
            "140/141 [============================>.] - ETA: 0s - loss: 0.0268 - accuracy: 0.9904\n",
            "Epoch 153: val_accuracy did not improve from 0.88756\n",
            "141/141 [==============================] - 3s 18ms/step - loss: 0.0269 - accuracy: 0.9904 - val_loss: 0.7692 - val_accuracy: 0.8801\n",
            "Epoch 154/500\n",
            "141/141 [==============================] - ETA: 0s - loss: 0.0268 - accuracy: 0.9911\n",
            "Epoch 154: val_accuracy did not improve from 0.88756\n",
            "141/141 [==============================] - 3s 20ms/step - loss: 0.0268 - accuracy: 0.9911 - val_loss: 0.9549 - val_accuracy: 0.8738\n",
            "Epoch 155/500\n",
            "138/141 [============================>.] - ETA: 0s - loss: 0.0231 - accuracy: 0.9917\n",
            "Epoch 155: val_accuracy did not improve from 0.88756\n",
            "141/141 [==============================] - 3s 19ms/step - loss: 0.0239 - accuracy: 0.9915 - val_loss: 0.7835 - val_accuracy: 0.8867\n",
            "Epoch 156/500\n",
            "139/141 [============================>.] - ETA: 0s - loss: 0.0216 - accuracy: 0.9930\n",
            "Epoch 156: val_accuracy did not improve from 0.88756\n",
            "141/141 [==============================] - 3s 19ms/step - loss: 0.0219 - accuracy: 0.9928 - val_loss: 0.7743 - val_accuracy: 0.8799\n",
            "Test accuracy: 0.8840%\n"
          ]
        }
      ],
      "source": [
        "model = load_model('model/best_dense_nn_fashion_mnist')\n",
        "\n",
        "es = EarlyStopping(monitor='accuracy', mode='auto', verbose=0, patience=20)\n",
        "mc = ModelCheckpoint('model/new_dense_nn_fashion_mnist', monitor='val_accuracy', mode='max', verbose=1, save_best_only=True)\n",
        "model.compile(optimizer='adam', loss ='sparse_categorical_crossentropy', metrics = ['accuracy'])\n",
        "history = model.fit(X_train, y_train, validation_split=0.2, epochs=500, batch_size=256, callbacks=[es, mc])\n",
        "\n",
        "# model.save('/content/Models/NLP_nn')\n",
        "model = load_model('model/new_dense_nn_fashion_mnist')\n",
        "_, model_accuracy = model.evaluate(X_test, y_test, verbose=0)\n",
        "print('Test accuracy: %.4f' % (model_accuracy) + '%')"
      ]
    },
    {
      "attachments": {},
      "cell_type": "markdown",
      "metadata": {},
      "source": [
        "# Comparing with the best model"
      ]
    },
    {
      "cell_type": "code",
      "execution_count": 31,
      "metadata": {},
      "outputs": [
        {
          "name": "stdout",
          "output_type": "stream",
          "text": [
            "Test accuracy new model: 0.8840%\n",
            "Test accuracy best model: 0.8840%\n"
          ]
        }
      ],
      "source": [
        "best_model = load_model('model/best_dense_nn_fashion_mnist')\n",
        "_, best_model_accuracy = best_model.evaluate(X_test, y_test, verbose=0)\n",
        "print('Test accuracy new model: %.4f' % (model_accuracy) + '%')\n",
        "print('Test accuracy best model: %.4f' % (best_model_accuracy) + '%')\n",
        "# here both accuracy are the same beacuse we re-executed the chunck to check if the export of the model works"
      ]
    },
    {
      "attachments": {},
      "cell_type": "markdown",
      "metadata": {},
      "source": [
        "# Export new predictions if the new model outperform the old one"
      ]
    },
    {
      "cell_type": "code",
      "execution_count": 30,
      "metadata": {},
      "outputs": [
        {
          "name": "stdout",
          "output_type": "stream",
          "text": [
            "313/313 [==============================] - 1s 3ms/step\n"
          ]
        },
        {
          "name": "stderr",
          "output_type": "stream",
          "text": [
            "WARNING:absl:Found untraced functions such as _update_step_xla while saving (showing 1 of 1). These functions will not be directly callable after loading.\n"
          ]
        },
        {
          "name": "stdout",
          "output_type": "stream",
          "text": [
            "INFO:tensorflow:Assets written to: model/best_dense_nn_fashion_mnist\\assets\n"
          ]
        },
        {
          "name": "stderr",
          "output_type": "stream",
          "text": [
            "INFO:tensorflow:Assets written to: model/best_dense_nn_fashion_mnist\\assets\n"
          ]
        }
      ],
      "source": [
        "if model_accuracy > best_model_accuracy:\n",
        "    y_pred = model.predict(X_test)\n",
        "    pd.Series(np.argmax(y_pred, axis=1)).to_csv('predictions/best_predictions_fashion_mnist.csv', index=False)\n",
        "    save_model(model, 'model/best_dense_nn_fashion_mnist')"
      ]
    }
  ],
  "metadata": {
    "accelerator": "GPU",
    "colab": {
      "provenance": []
    },
    "gpuClass": "standard",
    "kernelspec": {
      "display_name": "env",
      "language": "python",
      "name": "python3"
    },
    "language_info": {
      "codemirror_mode": {
        "name": "ipython",
        "version": 3
      },
      "file_extension": ".py",
      "mimetype": "text/x-python",
      "name": "python",
      "nbconvert_exporter": "python",
      "pygments_lexer": "ipython3",
      "version": "3.11.1"
    },
    "vscode": {
      "interpreter": {
        "hash": "8e5fcf580c453ff73111c5038b49a7469ef9aaa48bf4ad55ef51f8bb144c5bf0"
      }
    }
  },
  "nbformat": 4,
  "nbformat_minor": 0
}
