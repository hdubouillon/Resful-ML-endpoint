{
  "cells": [
    {
      "attachments": {},
      "cell_type": "markdown",
      "metadata": {},
      "source": [
        "# Imports"
      ]
    },
    {
      "cell_type": "code",
      "execution_count": 1,
      "metadata": {},
      "outputs": [
        {
          "name": "stdout",
          "output_type": "stream",
          "text": [
            "2.12.0\n"
          ]
        }
      ],
      "source": [
        "import os\n",
        "\n",
        "from tensorflow.keras.models import load_model, Model, Sequential\n",
        "from tensorflow.keras.callbacks import ModelCheckpoint, EarlyStopping\n",
        "import tensorflow.keras as keras\n",
        "\n",
        "import pandas as pd\n",
        "import numpy as np\n",
        "\n",
        "print (keras.__version__) #2.12.0"
      ]
    },
    {
      "attachments": {},
      "cell_type": "markdown",
      "metadata": {},
      "source": [
        "# Load data"
      ]
    },
    {
      "cell_type": "code",
      "execution_count": 2,
      "metadata": {},
      "outputs": [],
      "source": [
        "# go to parent directory\n",
        "os.chdir(\"..\")"
      ]
    },
    {
      "cell_type": "code",
      "execution_count": 3,
      "metadata": {
        "id": "Vr_tVeaZA4Mq"
      },
      "outputs": [],
      "source": [
        "train = pd.read_csv('data/fashion-mnist-train-1.csv')\n",
        "test = pd.read_csv('data/fashion-mnist_test.csv')\n",
        "\n",
        "X_train = train.drop(columns='label')\n",
        "X_test = test.drop(columns='label')\n",
        "y_train = train['label']\n",
        "y_test = test['label']\n",
        "\n",
        "# scale data\n",
        "X_train = X_train / 255.0\n",
        "X_test = X_test / 255.0"
      ]
    },
    {
      "attachments": {},
      "cell_type": "markdown",
      "metadata": {},
      "source": [
        "# Modelling"
      ]
    },
    {
      "cell_type": "code",
      "execution_count": 4,
      "metadata": {
        "colab": {
          "base_uri": "https://localhost:8080/"
        },
        "id": "VFd94GuHAx4g",
        "outputId": "74cc16b4-3fdb-48cf-e816-02240de60330"
      },
      "outputs": [
        {
          "name": "stdout",
          "output_type": "stream",
          "text": [
            "Epoch 1/500\n",
            "47/47 [==============================] - ETA: 0s - loss: 0.6823 - accuracy: 0.7665\n",
            "Epoch 1: val_accuracy improved from -inf to 0.72800, saving model to model\\best_dense_nn_fashion_mnist\n"
          ]
        },
        {
          "name": "stderr",
          "output_type": "stream",
          "text": [
            "WARNING:absl:Found untraced functions such as _update_step_xla while saving (showing 1 of 1). These functions will not be directly callable after loading.\n"
          ]
        },
        {
          "name": "stdout",
          "output_type": "stream",
          "text": [
            "INFO:tensorflow:Assets written to: model\\best_dense_nn_fashion_mnist\\assets\n"
          ]
        },
        {
          "name": "stderr",
          "output_type": "stream",
          "text": [
            "INFO:tensorflow:Assets written to: model\\best_dense_nn_fashion_mnist\\assets\n"
          ]
        },
        {
          "name": "stdout",
          "output_type": "stream",
          "text": [
            "47/47 [==============================] - 11s 113ms/step - loss: 0.6823 - accuracy: 0.7665 - val_loss: 0.9463 - val_accuracy: 0.7280\n",
            "Epoch 2/500\n",
            "47/47 [==============================] - ETA: 0s - loss: 0.4336 - accuracy: 0.8429\n",
            "Epoch 2: val_accuracy improved from 0.72800 to 0.78333, saving model to model\\best_dense_nn_fashion_mnist\n"
          ]
        },
        {
          "name": "stderr",
          "output_type": "stream",
          "text": [
            "WARNING:absl:Found untraced functions such as _update_step_xla while saving (showing 1 of 1). These functions will not be directly callable after loading.\n"
          ]
        },
        {
          "name": "stdout",
          "output_type": "stream",
          "text": [
            "INFO:tensorflow:Assets written to: model\\best_dense_nn_fashion_mnist\\assets\n"
          ]
        },
        {
          "name": "stderr",
          "output_type": "stream",
          "text": [
            "INFO:tensorflow:Assets written to: model\\best_dense_nn_fashion_mnist\\assets\n"
          ]
        },
        {
          "name": "stdout",
          "output_type": "stream",
          "text": [
            "47/47 [==============================] - 3s 68ms/step - loss: 0.4336 - accuracy: 0.8429 - val_loss: 0.7143 - val_accuracy: 0.7833\n",
            "Epoch 3/500\n",
            "46/47 [============================>.] - ETA: 0s - loss: 0.3792 - accuracy: 0.8584\n",
            "Epoch 3: val_accuracy improved from 0.78333 to 0.82800, saving model to model\\best_dense_nn_fashion_mnist\n"
          ]
        },
        {
          "name": "stderr",
          "output_type": "stream",
          "text": [
            "WARNING:absl:Found untraced functions such as _update_step_xla while saving (showing 1 of 1). These functions will not be directly callable after loading.\n"
          ]
        },
        {
          "name": "stdout",
          "output_type": "stream",
          "text": [
            "INFO:tensorflow:Assets written to: model\\best_dense_nn_fashion_mnist\\assets\n"
          ]
        },
        {
          "name": "stderr",
          "output_type": "stream",
          "text": [
            "INFO:tensorflow:Assets written to: model\\best_dense_nn_fashion_mnist\\assets\n"
          ]
        },
        {
          "name": "stdout",
          "output_type": "stream",
          "text": [
            "47/47 [==============================] - 3s 65ms/step - loss: 0.3796 - accuracy: 0.8579 - val_loss: 0.5332 - val_accuracy: 0.8280\n",
            "Epoch 4/500\n",
            "47/47 [==============================] - ETA: 0s - loss: 0.3499 - accuracy: 0.8700\n",
            "Epoch 4: val_accuracy did not improve from 0.82800\n",
            "47/47 [==============================] - 1s 20ms/step - loss: 0.3499 - accuracy: 0.8700 - val_loss: 0.5191 - val_accuracy: 0.8083\n",
            "Epoch 5/500\n",
            "45/47 [===========================>..] - ETA: 0s - loss: 0.3134 - accuracy: 0.8847\n",
            "Epoch 5: val_accuracy improved from 0.82800 to 0.85367, saving model to model\\best_dense_nn_fashion_mnist\n"
          ]
        },
        {
          "name": "stderr",
          "output_type": "stream",
          "text": [
            "WARNING:absl:Found untraced functions such as _update_step_xla while saving (showing 1 of 1). These functions will not be directly callable after loading.\n"
          ]
        },
        {
          "name": "stdout",
          "output_type": "stream",
          "text": [
            "INFO:tensorflow:Assets written to: model\\best_dense_nn_fashion_mnist\\assets\n"
          ]
        },
        {
          "name": "stderr",
          "output_type": "stream",
          "text": [
            "INFO:tensorflow:Assets written to: model\\best_dense_nn_fashion_mnist\\assets\n"
          ]
        },
        {
          "name": "stdout",
          "output_type": "stream",
          "text": [
            "47/47 [==============================] - 2s 53ms/step - loss: 0.3138 - accuracy: 0.8842 - val_loss: 0.4236 - val_accuracy: 0.8537\n",
            "Epoch 6/500\n",
            "46/47 [============================>.] - ETA: 0s - loss: 0.2995 - accuracy: 0.8859\n",
            "Epoch 6: val_accuracy did not improve from 0.85367\n",
            "47/47 [==============================] - 1s 17ms/step - loss: 0.2981 - accuracy: 0.8863 - val_loss: 0.4435 - val_accuracy: 0.8403\n",
            "Epoch 7/500\n",
            "47/47 [==============================] - ETA: 0s - loss: 0.2770 - accuracy: 0.8963\n",
            "Epoch 7: val_accuracy did not improve from 0.85367\n",
            "47/47 [==============================] - 1s 17ms/step - loss: 0.2770 - accuracy: 0.8963 - val_loss: 0.5001 - val_accuracy: 0.8237\n",
            "Epoch 8/500\n",
            "45/47 [===========================>..] - ETA: 0s - loss: 0.2742 - accuracy: 0.8986\n",
            "Epoch 8: val_accuracy did not improve from 0.85367\n",
            "47/47 [==============================] - 1s 17ms/step - loss: 0.2734 - accuracy: 0.8988 - val_loss: 0.4611 - val_accuracy: 0.8283\n",
            "Epoch 9/500\n",
            "47/47 [==============================] - ETA: 0s - loss: 0.2560 - accuracy: 0.9032\n",
            "Epoch 9: val_accuracy did not improve from 0.85367\n",
            "47/47 [==============================] - 1s 19ms/step - loss: 0.2560 - accuracy: 0.9032 - val_loss: 0.4579 - val_accuracy: 0.8393\n",
            "Epoch 10/500\n",
            "47/47 [==============================] - ETA: 0s - loss: 0.2515 - accuracy: 0.9065\n",
            "Epoch 10: val_accuracy did not improve from 0.85367\n",
            "47/47 [==============================] - 1s 18ms/step - loss: 0.2515 - accuracy: 0.9065 - val_loss: 0.5705 - val_accuracy: 0.8207\n",
            "Epoch 11/500\n",
            "44/47 [===========================>..] - ETA: 0s - loss: 0.2489 - accuracy: 0.9060\n",
            "Epoch 11: val_accuracy did not improve from 0.85367\n",
            "47/47 [==============================] - 1s 19ms/step - loss: 0.2464 - accuracy: 0.9069 - val_loss: 0.5436 - val_accuracy: 0.8263\n",
            "Epoch 12/500\n",
            "46/47 [============================>.] - ETA: 0s - loss: 0.2346 - accuracy: 0.9097\n",
            "Epoch 12: val_accuracy did not improve from 0.85367\n",
            "47/47 [==============================] - 1s 19ms/step - loss: 0.2346 - accuracy: 0.9097 - val_loss: 0.5207 - val_accuracy: 0.8380\n",
            "Epoch 13/500\n",
            "46/47 [============================>.] - ETA: 0s - loss: 0.2314 - accuracy: 0.9129\n",
            "Epoch 13: val_accuracy improved from 0.85367 to 0.86433, saving model to model\\best_dense_nn_fashion_mnist\n"
          ]
        },
        {
          "name": "stderr",
          "output_type": "stream",
          "text": [
            "WARNING:absl:Found untraced functions such as _update_step_xla while saving (showing 1 of 1). These functions will not be directly callable after loading.\n"
          ]
        },
        {
          "name": "stdout",
          "output_type": "stream",
          "text": [
            "INFO:tensorflow:Assets written to: model\\best_dense_nn_fashion_mnist\\assets\n"
          ]
        },
        {
          "name": "stderr",
          "output_type": "stream",
          "text": [
            "INFO:tensorflow:Assets written to: model\\best_dense_nn_fashion_mnist\\assets\n"
          ]
        },
        {
          "name": "stdout",
          "output_type": "stream",
          "text": [
            "47/47 [==============================] - 2s 47ms/step - loss: 0.2313 - accuracy: 0.9132 - val_loss: 0.4262 - val_accuracy: 0.8643\n",
            "Epoch 14/500\n",
            "45/47 [===========================>..] - ETA: 0s - loss: 0.2123 - accuracy: 0.9178\n",
            "Epoch 14: val_accuracy did not improve from 0.86433\n",
            "47/47 [==============================] - 1s 16ms/step - loss: 0.2147 - accuracy: 0.9166 - val_loss: 0.5011 - val_accuracy: 0.8413\n",
            "Epoch 15/500\n",
            "45/47 [===========================>..] - ETA: 0s - loss: 0.2057 - accuracy: 0.9227\n",
            "Epoch 15: val_accuracy did not improve from 0.86433\n",
            "47/47 [==============================] - 1s 16ms/step - loss: 0.2063 - accuracy: 0.9222 - val_loss: 0.4452 - val_accuracy: 0.8520\n",
            "Epoch 16/500\n",
            "45/47 [===========================>..] - ETA: 0s - loss: 0.2031 - accuracy: 0.9220\n",
            "Epoch 16: val_accuracy did not improve from 0.86433\n",
            "47/47 [==============================] - 1s 15ms/step - loss: 0.2044 - accuracy: 0.9212 - val_loss: 0.5094 - val_accuracy: 0.8403\n",
            "Epoch 17/500\n",
            "47/47 [==============================] - ETA: 0s - loss: 0.2139 - accuracy: 0.9190\n",
            "Epoch 17: val_accuracy did not improve from 0.86433\n",
            "47/47 [==============================] - 1s 16ms/step - loss: 0.2139 - accuracy: 0.9190 - val_loss: 0.4927 - val_accuracy: 0.8443\n",
            "Epoch 18/500\n",
            "47/47 [==============================] - ETA: 0s - loss: 0.2060 - accuracy: 0.9192\n",
            "Epoch 18: val_accuracy did not improve from 0.86433\n",
            "47/47 [==============================] - 1s 16ms/step - loss: 0.2060 - accuracy: 0.9192 - val_loss: 0.6497 - val_accuracy: 0.8120\n",
            "Epoch 19/500\n",
            "46/47 [============================>.] - ETA: 0s - loss: 0.2031 - accuracy: 0.9247\n",
            "Epoch 19: val_accuracy did not improve from 0.86433\n",
            "47/47 [==============================] - 1s 17ms/step - loss: 0.2027 - accuracy: 0.9252 - val_loss: 0.5164 - val_accuracy: 0.8467\n",
            "Epoch 20/500\n",
            "47/47 [==============================] - ETA: 0s - loss: 0.1961 - accuracy: 0.9256\n",
            "Epoch 20: val_accuracy did not improve from 0.86433\n",
            "47/47 [==============================] - 1s 17ms/step - loss: 0.1961 - accuracy: 0.9256 - val_loss: 0.5076 - val_accuracy: 0.8520\n",
            "Epoch 21/500\n",
            "45/47 [===========================>..] - ETA: 0s - loss: 0.1859 - accuracy: 0.9301\n",
            "Epoch 21: val_accuracy did not improve from 0.86433\n",
            "47/47 [==============================] - 1s 19ms/step - loss: 0.1867 - accuracy: 0.9297 - val_loss: 0.6477 - val_accuracy: 0.8127\n",
            "Epoch 22/500\n",
            "44/47 [===========================>..] - ETA: 0s - loss: 0.1737 - accuracy: 0.9370\n",
            "Epoch 22: val_accuracy did not improve from 0.86433\n",
            "47/47 [==============================] - 1s 16ms/step - loss: 0.1738 - accuracy: 0.9370 - val_loss: 0.6839 - val_accuracy: 0.8327\n",
            "Epoch 23/500\n",
            "47/47 [==============================] - ETA: 0s - loss: 0.1746 - accuracy: 0.9324\n",
            "Epoch 23: val_accuracy did not improve from 0.86433\n",
            "47/47 [==============================] - 1s 17ms/step - loss: 0.1746 - accuracy: 0.9324 - val_loss: 0.5810 - val_accuracy: 0.8360\n",
            "Epoch 24/500\n",
            "45/47 [===========================>..] - ETA: 0s - loss: 0.1730 - accuracy: 0.9345\n",
            "Epoch 24: val_accuracy did not improve from 0.86433\n",
            "47/47 [==============================] - 1s 17ms/step - loss: 0.1723 - accuracy: 0.9352 - val_loss: 0.5331 - val_accuracy: 0.8507\n",
            "Epoch 25/500\n",
            "45/47 [===========================>..] - ETA: 0s - loss: 0.1536 - accuracy: 0.9414\n",
            "Epoch 25: val_accuracy did not improve from 0.86433\n",
            "47/47 [==============================] - 1s 17ms/step - loss: 0.1544 - accuracy: 0.9406 - val_loss: 0.4801 - val_accuracy: 0.8607\n",
            "Epoch 26/500\n",
            "44/47 [===========================>..] - ETA: 0s - loss: 0.1490 - accuracy: 0.9434\n",
            "Epoch 26: val_accuracy did not improve from 0.86433\n",
            "47/47 [==============================] - 1s 17ms/step - loss: 0.1502 - accuracy: 0.9427 - val_loss: 0.5338 - val_accuracy: 0.8500\n",
            "Epoch 27/500\n",
            "45/47 [===========================>..] - ETA: 0s - loss: 0.1421 - accuracy: 0.9459\n",
            "Epoch 27: val_accuracy did not improve from 0.86433\n",
            "47/47 [==============================] - 1s 19ms/step - loss: 0.1436 - accuracy: 0.9449 - val_loss: 0.5891 - val_accuracy: 0.8347\n",
            "Epoch 28/500\n",
            "46/47 [============================>.] - ETA: 0s - loss: 0.1385 - accuracy: 0.9485\n",
            "Epoch 28: val_accuracy did not improve from 0.86433\n",
            "47/47 [==============================] - 1s 20ms/step - loss: 0.1384 - accuracy: 0.9487 - val_loss: 0.5163 - val_accuracy: 0.8590\n",
            "Epoch 29/500\n",
            "47/47 [==============================] - ETA: 0s - loss: 0.1352 - accuracy: 0.9515\n",
            "Epoch 29: val_accuracy did not improve from 0.86433\n",
            "47/47 [==============================] - 1s 19ms/step - loss: 0.1352 - accuracy: 0.9515 - val_loss: 0.5972 - val_accuracy: 0.8387\n",
            "Epoch 30/500\n",
            "45/47 [===========================>..] - ETA: 0s - loss: 0.1482 - accuracy: 0.9431\n",
            "Epoch 30: val_accuracy did not improve from 0.86433\n",
            "47/47 [==============================] - 1s 19ms/step - loss: 0.1481 - accuracy: 0.9430 - val_loss: 0.5829 - val_accuracy: 0.8407\n",
            "Epoch 31/500\n",
            "45/47 [===========================>..] - ETA: 0s - loss: 0.1430 - accuracy: 0.9446\n",
            "Epoch 31: val_accuracy did not improve from 0.86433\n",
            "47/47 [==============================] - 1s 17ms/step - loss: 0.1436 - accuracy: 0.9441 - val_loss: 0.5587 - val_accuracy: 0.8427\n",
            "Epoch 32/500\n",
            "45/47 [===========================>..] - ETA: 0s - loss: 0.1421 - accuracy: 0.9464\n",
            "Epoch 32: val_accuracy did not improve from 0.86433\n",
            "47/47 [==============================] - 1s 16ms/step - loss: 0.1407 - accuracy: 0.9470 - val_loss: 0.5893 - val_accuracy: 0.8463\n",
            "Epoch 33/500\n",
            "46/47 [============================>.] - ETA: 0s - loss: 0.1448 - accuracy: 0.9461\n",
            "Epoch 33: val_accuracy did not improve from 0.86433\n",
            "47/47 [==============================] - 1s 17ms/step - loss: 0.1438 - accuracy: 0.9466 - val_loss: 0.5468 - val_accuracy: 0.8540\n",
            "Epoch 34/500\n",
            "47/47 [==============================] - ETA: 0s - loss: 0.1337 - accuracy: 0.9513\n",
            "Epoch 34: val_accuracy did not improve from 0.86433\n",
            "47/47 [==============================] - 1s 17ms/step - loss: 0.1337 - accuracy: 0.9513 - val_loss: 0.6097 - val_accuracy: 0.8447\n",
            "Epoch 35/500\n",
            "45/47 [===========================>..] - ETA: 0s - loss: 0.1298 - accuracy: 0.9502\n",
            "Epoch 35: val_accuracy did not improve from 0.86433\n",
            "47/47 [==============================] - 1s 17ms/step - loss: 0.1300 - accuracy: 0.9500 - val_loss: 0.5557 - val_accuracy: 0.8520\n",
            "Epoch 36/500\n",
            "44/47 [===========================>..] - ETA: 0s - loss: 0.1252 - accuracy: 0.9528\n",
            "Epoch 36: val_accuracy did not improve from 0.86433\n",
            "47/47 [==============================] - 1s 16ms/step - loss: 0.1287 - accuracy: 0.9520 - val_loss: 0.8360 - val_accuracy: 0.8030\n",
            "Epoch 37/500\n",
            "45/47 [===========================>..] - ETA: 0s - loss: 0.1223 - accuracy: 0.9531\n",
            "Epoch 37: val_accuracy did not improve from 0.86433\n",
            "47/47 [==============================] - 1s 16ms/step - loss: 0.1229 - accuracy: 0.9527 - val_loss: 0.5900 - val_accuracy: 0.8483\n",
            "Epoch 38/500\n",
            "47/47 [==============================] - ETA: 0s - loss: 0.1187 - accuracy: 0.9554\n",
            "Epoch 38: val_accuracy did not improve from 0.86433\n",
            "47/47 [==============================] - 1s 19ms/step - loss: 0.1187 - accuracy: 0.9554 - val_loss: 0.6063 - val_accuracy: 0.8490\n",
            "Epoch 39/500\n",
            "44/47 [===========================>..] - ETA: 0s - loss: 0.1202 - accuracy: 0.9551\n",
            "Epoch 39: val_accuracy did not improve from 0.86433\n",
            "47/47 [==============================] - 1s 16ms/step - loss: 0.1197 - accuracy: 0.9550 - val_loss: 0.6075 - val_accuracy: 0.8507\n",
            "Epoch 40/500\n",
            "44/47 [===========================>..] - ETA: 0s - loss: 0.1139 - accuracy: 0.9561\n",
            "Epoch 40: val_accuracy did not improve from 0.86433\n",
            "47/47 [==============================] - 1s 16ms/step - loss: 0.1129 - accuracy: 0.9565 - val_loss: 0.5743 - val_accuracy: 0.8553\n",
            "Epoch 41/500\n",
            "47/47 [==============================] - ETA: 0s - loss: 0.1037 - accuracy: 0.9626\n",
            "Epoch 41: val_accuracy did not improve from 0.86433\n",
            "47/47 [==============================] - 1s 17ms/step - loss: 0.1037 - accuracy: 0.9626 - val_loss: 0.5523 - val_accuracy: 0.8610\n",
            "Epoch 42/500\n",
            "46/47 [============================>.] - ETA: 0s - loss: 0.1061 - accuracy: 0.9603\n",
            "Epoch 42: val_accuracy did not improve from 0.86433\n",
            "47/47 [==============================] - 1s 17ms/step - loss: 0.1074 - accuracy: 0.9598 - val_loss: 0.6123 - val_accuracy: 0.8530\n",
            "Epoch 43/500\n",
            "45/47 [===========================>..] - ETA: 0s - loss: 0.1081 - accuracy: 0.9610\n",
            "Epoch 43: val_accuracy did not improve from 0.86433\n",
            "47/47 [==============================] - 1s 18ms/step - loss: 0.1110 - accuracy: 0.9598 - val_loss: 0.5671 - val_accuracy: 0.8513\n",
            "Epoch 44/500\n",
            "47/47 [==============================] - ETA: 0s - loss: 0.1175 - accuracy: 0.9562\n",
            "Epoch 44: val_accuracy did not improve from 0.86433\n",
            "47/47 [==============================] - 1s 20ms/step - loss: 0.1175 - accuracy: 0.9562 - val_loss: 0.6466 - val_accuracy: 0.8433\n",
            "Epoch 45/500\n",
            "46/47 [============================>.] - ETA: 0s - loss: 0.1111 - accuracy: 0.9587\n",
            "Epoch 45: val_accuracy did not improve from 0.86433\n",
            "47/47 [==============================] - 1s 21ms/step - loss: 0.1125 - accuracy: 0.9587 - val_loss: 0.7092 - val_accuracy: 0.8487\n",
            "Epoch 46/500\n",
            "46/47 [============================>.] - ETA: 0s - loss: 0.1093 - accuracy: 0.9596\n",
            "Epoch 46: val_accuracy did not improve from 0.86433\n",
            "47/47 [==============================] - 1s 19ms/step - loss: 0.1083 - accuracy: 0.9600 - val_loss: 0.7909 - val_accuracy: 0.8437\n",
            "Epoch 47/500\n",
            "45/47 [===========================>..] - ETA: 0s - loss: 0.1122 - accuracy: 0.9571\n",
            "Epoch 47: val_accuracy did not improve from 0.86433\n",
            "47/47 [==============================] - 1s 20ms/step - loss: 0.1123 - accuracy: 0.9567 - val_loss: 0.7446 - val_accuracy: 0.8350\n",
            "Epoch 48/500\n",
            "47/47 [==============================] - ETA: 0s - loss: 0.1049 - accuracy: 0.9597\n",
            "Epoch 48: val_accuracy did not improve from 0.86433\n",
            "47/47 [==============================] - 1s 18ms/step - loss: 0.1049 - accuracy: 0.9597 - val_loss: 0.6751 - val_accuracy: 0.8457\n",
            "Epoch 49/500\n",
            "47/47 [==============================] - ETA: 0s - loss: 0.1136 - accuracy: 0.9559\n",
            "Epoch 49: val_accuracy did not improve from 0.86433\n",
            "47/47 [==============================] - 1s 19ms/step - loss: 0.1136 - accuracy: 0.9559 - val_loss: 0.6218 - val_accuracy: 0.8487\n",
            "Epoch 50/500\n",
            "47/47 [==============================] - ETA: 0s - loss: 0.1115 - accuracy: 0.9597\n",
            "Epoch 50: val_accuracy did not improve from 0.86433\n",
            "47/47 [==============================] - 1s 18ms/step - loss: 0.1115 - accuracy: 0.9597 - val_loss: 0.6524 - val_accuracy: 0.8453\n",
            "Epoch 51/500\n",
            "44/47 [===========================>..] - ETA: 0s - loss: 0.1154 - accuracy: 0.9561\n",
            "Epoch 51: val_accuracy did not improve from 0.86433\n",
            "47/47 [==============================] - 1s 17ms/step - loss: 0.1168 - accuracy: 0.9553 - val_loss: 0.6040 - val_accuracy: 0.8587\n",
            "Epoch 52/500\n",
            "46/47 [============================>.] - ETA: 0s - loss: 0.1201 - accuracy: 0.9558\n",
            "Epoch 52: val_accuracy did not improve from 0.86433\n",
            "47/47 [==============================] - 1s 17ms/step - loss: 0.1200 - accuracy: 0.9558 - val_loss: 0.7431 - val_accuracy: 0.8433\n",
            "Epoch 53/500\n",
            "44/47 [===========================>..] - ETA: 0s - loss: 0.1051 - accuracy: 0.9623\n",
            "Epoch 53: val_accuracy did not improve from 0.86433\n",
            "47/47 [==============================] - 1s 17ms/step - loss: 0.1062 - accuracy: 0.9615 - val_loss: 0.6400 - val_accuracy: 0.8587\n",
            "Epoch 54/500\n",
            "46/47 [============================>.] - ETA: 0s - loss: 0.0969 - accuracy: 0.9637\n",
            "Epoch 54: val_accuracy did not improve from 0.86433\n",
            "47/47 [==============================] - 1s 18ms/step - loss: 0.0961 - accuracy: 0.9640 - val_loss: 0.7022 - val_accuracy: 0.8477\n",
            "Epoch 55/500\n",
            "44/47 [===========================>..] - ETA: 0s - loss: 0.0921 - accuracy: 0.9650\n",
            "Epoch 55: val_accuracy did not improve from 0.86433\n",
            "47/47 [==============================] - 1s 18ms/step - loss: 0.0939 - accuracy: 0.9647 - val_loss: 0.6424 - val_accuracy: 0.8403\n",
            "Epoch 56/500\n",
            "46/47 [============================>.] - ETA: 0s - loss: 0.0990 - accuracy: 0.9637\n",
            "Epoch 56: val_accuracy did not improve from 0.86433\n",
            "47/47 [==============================] - 1s 17ms/step - loss: 0.1002 - accuracy: 0.9630 - val_loss: 0.7092 - val_accuracy: 0.8450\n",
            "Epoch 57/500\n",
            "47/47 [==============================] - ETA: 0s - loss: 0.1003 - accuracy: 0.9621\n",
            "Epoch 57: val_accuracy did not improve from 0.86433\n",
            "47/47 [==============================] - 1s 18ms/step - loss: 0.1003 - accuracy: 0.9621 - val_loss: 0.6748 - val_accuracy: 0.8470\n",
            "Epoch 58/500\n",
            "46/47 [============================>.] - ETA: 0s - loss: 0.0991 - accuracy: 0.9622\n",
            "Epoch 58: val_accuracy did not improve from 0.86433\n",
            "47/47 [==============================] - 1s 21ms/step - loss: 0.0993 - accuracy: 0.9622 - val_loss: 0.7127 - val_accuracy: 0.8500\n",
            "Epoch 59/500\n",
            "45/47 [===========================>..] - ETA: 0s - loss: 0.0913 - accuracy: 0.9660\n",
            "Epoch 59: val_accuracy improved from 0.86433 to 0.86933, saving model to model\\best_dense_nn_fashion_mnist\n"
          ]
        },
        {
          "name": "stderr",
          "output_type": "stream",
          "text": [
            "WARNING:absl:Found untraced functions such as _update_step_xla while saving (showing 1 of 1). These functions will not be directly callable after loading.\n"
          ]
        },
        {
          "name": "stdout",
          "output_type": "stream",
          "text": [
            "INFO:tensorflow:Assets written to: model\\best_dense_nn_fashion_mnist\\assets\n"
          ]
        },
        {
          "name": "stderr",
          "output_type": "stream",
          "text": [
            "INFO:tensorflow:Assets written to: model\\best_dense_nn_fashion_mnist\\assets\n"
          ]
        },
        {
          "name": "stdout",
          "output_type": "stream",
          "text": [
            "47/47 [==============================] - 3s 56ms/step - loss: 0.0912 - accuracy: 0.9659 - val_loss: 0.5974 - val_accuracy: 0.8693\n",
            "Epoch 60/500\n",
            "47/47 [==============================] - ETA: 0s - loss: 0.0932 - accuracy: 0.9652\n",
            "Epoch 60: val_accuracy did not improve from 0.86933\n",
            "47/47 [==============================] - 1s 16ms/step - loss: 0.0932 - accuracy: 0.9652 - val_loss: 0.6712 - val_accuracy: 0.8497\n",
            "Epoch 61/500\n",
            "44/47 [===========================>..] - ETA: 0s - loss: 0.0894 - accuracy: 0.9667\n",
            "Epoch 61: val_accuracy did not improve from 0.86933\n",
            "47/47 [==============================] - 1s 16ms/step - loss: 0.0893 - accuracy: 0.9667 - val_loss: 0.6688 - val_accuracy: 0.8610\n",
            "Epoch 62/500\n",
            "45/47 [===========================>..] - ETA: 0s - loss: 0.0868 - accuracy: 0.9666\n",
            "Epoch 62: val_accuracy did not improve from 0.86933\n",
            "47/47 [==============================] - 1s 17ms/step - loss: 0.0865 - accuracy: 0.9662 - val_loss: 0.6680 - val_accuracy: 0.8610\n",
            "Epoch 63/500\n",
            "44/47 [===========================>..] - ETA: 0s - loss: 0.0772 - accuracy: 0.9723\n",
            "Epoch 63: val_accuracy did not improve from 0.86933\n",
            "47/47 [==============================] - 1s 16ms/step - loss: 0.0774 - accuracy: 0.9720 - val_loss: 0.6403 - val_accuracy: 0.8603\n",
            "Epoch 64/500\n",
            "46/47 [============================>.] - ETA: 0s - loss: 0.0883 - accuracy: 0.9684\n",
            "Epoch 64: val_accuracy did not improve from 0.86933\n",
            "47/47 [==============================] - 1s 17ms/step - loss: 0.0878 - accuracy: 0.9686 - val_loss: 0.6307 - val_accuracy: 0.8657\n",
            "Epoch 65/500\n",
            "47/47 [==============================] - ETA: 0s - loss: 0.0811 - accuracy: 0.9682\n",
            "Epoch 65: val_accuracy did not improve from 0.86933\n",
            "47/47 [==============================] - 1s 16ms/step - loss: 0.0811 - accuracy: 0.9682 - val_loss: 0.7301 - val_accuracy: 0.8500\n",
            "Epoch 66/500\n",
            "44/47 [===========================>..] - ETA: 0s - loss: 0.0811 - accuracy: 0.9685\n",
            "Epoch 66: val_accuracy did not improve from 0.86933\n",
            "47/47 [==============================] - 1s 16ms/step - loss: 0.0806 - accuracy: 0.9688 - val_loss: 0.6539 - val_accuracy: 0.8557\n",
            "Epoch 67/500\n",
            "45/47 [===========================>..] - ETA: 0s - loss: 0.0835 - accuracy: 0.9700\n",
            "Epoch 67: val_accuracy did not improve from 0.86933\n",
            "47/47 [==============================] - 1s 17ms/step - loss: 0.0828 - accuracy: 0.9701 - val_loss: 0.7740 - val_accuracy: 0.8400\n",
            "Epoch 68/500\n",
            "44/47 [===========================>..] - ETA: 0s - loss: 0.0749 - accuracy: 0.9735\n",
            "Epoch 68: val_accuracy did not improve from 0.86933\n",
            "47/47 [==============================] - 1s 16ms/step - loss: 0.0752 - accuracy: 0.9732 - val_loss: 0.6534 - val_accuracy: 0.8570\n",
            "Epoch 69/500\n",
            "47/47 [==============================] - ETA: 0s - loss: 0.0791 - accuracy: 0.9710\n",
            "Epoch 69: val_accuracy did not improve from 0.86933\n",
            "47/47 [==============================] - 1s 17ms/step - loss: 0.0791 - accuracy: 0.9710 - val_loss: 0.6956 - val_accuracy: 0.8483\n",
            "Epoch 70/500\n",
            "44/47 [===========================>..] - ETA: 0s - loss: 0.0770 - accuracy: 0.9711\n",
            "Epoch 70: val_accuracy did not improve from 0.86933\n",
            "47/47 [==============================] - 1s 17ms/step - loss: 0.0783 - accuracy: 0.9706 - val_loss: 0.7174 - val_accuracy: 0.8533\n",
            "Epoch 71/500\n",
            "47/47 [==============================] - ETA: 0s - loss: 0.0779 - accuracy: 0.9709\n",
            "Epoch 71: val_accuracy did not improve from 0.86933\n",
            "47/47 [==============================] - 1s 16ms/step - loss: 0.0779 - accuracy: 0.9709 - val_loss: 0.6743 - val_accuracy: 0.8620\n",
            "Epoch 72/500\n",
            "46/47 [============================>.] - ETA: 0s - loss: 0.0765 - accuracy: 0.9721\n",
            "Epoch 72: val_accuracy did not improve from 0.86933\n",
            "47/47 [==============================] - 1s 18ms/step - loss: 0.0767 - accuracy: 0.9717 - val_loss: 0.7422 - val_accuracy: 0.8467\n",
            "Epoch 73/500\n",
            "47/47 [==============================] - ETA: 0s - loss: 0.0767 - accuracy: 0.9722\n",
            "Epoch 73: val_accuracy did not improve from 0.86933\n",
            "47/47 [==============================] - 1s 16ms/step - loss: 0.0767 - accuracy: 0.9722 - val_loss: 0.7505 - val_accuracy: 0.8543\n",
            "Epoch 74/500\n",
            "44/47 [===========================>..] - ETA: 0s - loss: 0.0669 - accuracy: 0.9743\n",
            "Epoch 74: val_accuracy did not improve from 0.86933\n",
            "47/47 [==============================] - 1s 16ms/step - loss: 0.0688 - accuracy: 0.9735 - val_loss: 0.6304 - val_accuracy: 0.8667\n",
            "Epoch 75/500\n",
            "44/47 [===========================>..] - ETA: 0s - loss: 0.0753 - accuracy: 0.9709\n",
            "Epoch 75: val_accuracy did not improve from 0.86933\n",
            "47/47 [==============================] - 1s 16ms/step - loss: 0.0745 - accuracy: 0.9714 - val_loss: 0.6945 - val_accuracy: 0.8677\n",
            "Epoch 76/500\n",
            "46/47 [============================>.] - ETA: 0s - loss: 0.0684 - accuracy: 0.9740\n",
            "Epoch 76: val_accuracy did not improve from 0.86933\n",
            "47/47 [==============================] - 1s 17ms/step - loss: 0.0684 - accuracy: 0.9741 - val_loss: 0.8116 - val_accuracy: 0.8463\n",
            "Epoch 77/500\n",
            "46/47 [============================>.] - ETA: 0s - loss: 0.0742 - accuracy: 0.9726\n",
            "Epoch 77: val_accuracy did not improve from 0.86933\n",
            "47/47 [==============================] - 1s 17ms/step - loss: 0.0747 - accuracy: 0.9723 - val_loss: 0.6896 - val_accuracy: 0.8640\n",
            "Epoch 78/500\n",
            "46/47 [============================>.] - ETA: 0s - loss: 0.0587 - accuracy: 0.9784\n",
            "Epoch 78: val_accuracy did not improve from 0.86933\n",
            "47/47 [==============================] - 1s 17ms/step - loss: 0.0582 - accuracy: 0.9787 - val_loss: 0.6922 - val_accuracy: 0.8663\n",
            "Epoch 79/500\n",
            "47/47 [==============================] - ETA: 0s - loss: 0.0585 - accuracy: 0.9788\n",
            "Epoch 79: val_accuracy did not improve from 0.86933\n",
            "47/47 [==============================] - 1s 16ms/step - loss: 0.0585 - accuracy: 0.9788 - val_loss: 0.6764 - val_accuracy: 0.8600\n",
            "Epoch 80/500\n",
            "47/47 [==============================] - ETA: 0s - loss: 0.0642 - accuracy: 0.9762\n",
            "Epoch 80: val_accuracy did not improve from 0.86933\n",
            "47/47 [==============================] - 1s 17ms/step - loss: 0.0642 - accuracy: 0.9762 - val_loss: 0.7539 - val_accuracy: 0.8623\n",
            "Epoch 81/500\n",
            "47/47 [==============================] - ETA: 0s - loss: 0.0572 - accuracy: 0.9794\n",
            "Epoch 81: val_accuracy did not improve from 0.86933\n",
            "47/47 [==============================] - 1s 17ms/step - loss: 0.0572 - accuracy: 0.9794 - val_loss: 0.6932 - val_accuracy: 0.8637\n",
            "Epoch 82/500\n",
            "44/47 [===========================>..] - ETA: 0s - loss: 0.0592 - accuracy: 0.9764\n",
            "Epoch 82: val_accuracy did not improve from 0.86933\n",
            "47/47 [==============================] - 1s 18ms/step - loss: 0.0604 - accuracy: 0.9759 - val_loss: 0.8199 - val_accuracy: 0.8577\n",
            "Epoch 83/500\n",
            "46/47 [============================>.] - ETA: 0s - loss: 0.0645 - accuracy: 0.9761\n",
            "Epoch 83: val_accuracy did not improve from 0.86933\n",
            "47/47 [==============================] - 1s 17ms/step - loss: 0.0650 - accuracy: 0.9762 - val_loss: 0.7158 - val_accuracy: 0.8593\n",
            "Epoch 84/500\n",
            "47/47 [==============================] - ETA: 0s - loss: 0.0571 - accuracy: 0.9784\n",
            "Epoch 84: val_accuracy did not improve from 0.86933\n",
            "47/47 [==============================] - 1s 17ms/step - loss: 0.0571 - accuracy: 0.9784 - val_loss: 0.7540 - val_accuracy: 0.8590\n",
            "Epoch 85/500\n",
            "47/47 [==============================] - ETA: 0s - loss: 0.0609 - accuracy: 0.9767\n",
            "Epoch 85: val_accuracy did not improve from 0.86933\n",
            "47/47 [==============================] - 1s 17ms/step - loss: 0.0609 - accuracy: 0.9767 - val_loss: 0.7011 - val_accuracy: 0.8637\n",
            "Epoch 86/500\n",
            "45/47 [===========================>..] - ETA: 0s - loss: 0.0653 - accuracy: 0.9753\n",
            "Epoch 86: val_accuracy did not improve from 0.86933\n",
            "47/47 [==============================] - 1s 17ms/step - loss: 0.0657 - accuracy: 0.9756 - val_loss: 0.6920 - val_accuracy: 0.8577\n",
            "Epoch 87/500\n",
            "45/47 [===========================>..] - ETA: 0s - loss: 0.0580 - accuracy: 0.9805\n",
            "Epoch 87: val_accuracy did not improve from 0.86933\n",
            "47/47 [==============================] - 1s 18ms/step - loss: 0.0577 - accuracy: 0.9806 - val_loss: 0.7216 - val_accuracy: 0.8637\n",
            "Epoch 88/500\n",
            "46/47 [============================>.] - ETA: 0s - loss: 0.0578 - accuracy: 0.9800\n",
            "Epoch 88: val_accuracy did not improve from 0.86933\n",
            "47/47 [==============================] - 1s 17ms/step - loss: 0.0584 - accuracy: 0.9797 - val_loss: 0.6732 - val_accuracy: 0.8647\n",
            "Epoch 89/500\n",
            "44/47 [===========================>..] - ETA: 0s - loss: 0.0538 - accuracy: 0.9800\n",
            "Epoch 89: val_accuracy did not improve from 0.86933\n",
            "47/47 [==============================] - 1s 17ms/step - loss: 0.0537 - accuracy: 0.9799 - val_loss: 0.7806 - val_accuracy: 0.8523\n",
            "Epoch 90/500\n",
            "44/47 [===========================>..] - ETA: 0s - loss: 0.0611 - accuracy: 0.9759\n",
            "Epoch 90: val_accuracy did not improve from 0.86933\n",
            "47/47 [==============================] - 1s 17ms/step - loss: 0.0615 - accuracy: 0.9760 - val_loss: 0.7099 - val_accuracy: 0.8607\n",
            "Epoch 91/500\n",
            "47/47 [==============================] - ETA: 0s - loss: 0.0572 - accuracy: 0.9813\n",
            "Epoch 91: val_accuracy did not improve from 0.86933\n",
            "47/47 [==============================] - 1s 18ms/step - loss: 0.0572 - accuracy: 0.9813 - val_loss: 0.6828 - val_accuracy: 0.8637\n",
            "Epoch 92/500\n",
            "45/47 [===========================>..] - ETA: 0s - loss: 0.0458 - accuracy: 0.9839\n",
            "Epoch 92: val_accuracy did not improve from 0.86933\n",
            "47/47 [==============================] - 1s 18ms/step - loss: 0.0458 - accuracy: 0.9837 - val_loss: 0.7773 - val_accuracy: 0.8570\n",
            "Epoch 93/500\n",
            "46/47 [============================>.] - ETA: 0s - loss: 0.0481 - accuracy: 0.9828\n",
            "Epoch 93: val_accuracy did not improve from 0.86933\n",
            "47/47 [==============================] - 1s 17ms/step - loss: 0.0485 - accuracy: 0.9826 - val_loss: 0.6996 - val_accuracy: 0.8557\n",
            "Epoch 94/500\n",
            "47/47 [==============================] - ETA: 0s - loss: 0.0456 - accuracy: 0.9828\n",
            "Epoch 94: val_accuracy did not improve from 0.86933\n",
            "47/47 [==============================] - 1s 17ms/step - loss: 0.0456 - accuracy: 0.9828 - val_loss: 0.7322 - val_accuracy: 0.8693\n",
            "Epoch 95/500\n",
            "47/47 [==============================] - ETA: 0s - loss: 0.0428 - accuracy: 0.9845\n",
            "Epoch 95: val_accuracy did not improve from 0.86933\n",
            "47/47 [==============================] - 1s 17ms/step - loss: 0.0428 - accuracy: 0.9845 - val_loss: 0.7062 - val_accuracy: 0.8660\n",
            "Epoch 96/500\n",
            "47/47 [==============================] - ETA: 0s - loss: 0.0435 - accuracy: 0.9842\n",
            "Epoch 96: val_accuracy did not improve from 0.86933\n",
            "47/47 [==============================] - 1s 18ms/step - loss: 0.0435 - accuracy: 0.9842 - val_loss: 0.7620 - val_accuracy: 0.8533\n",
            "Epoch 97/500\n",
            "47/47 [==============================] - ETA: 0s - loss: 0.0391 - accuracy: 0.9859\n",
            "Epoch 97: val_accuracy did not improve from 0.86933\n",
            "47/47 [==============================] - 1s 17ms/step - loss: 0.0391 - accuracy: 0.9859 - val_loss: 0.7630 - val_accuracy: 0.8577\n",
            "Epoch 98/500\n",
            "44/47 [===========================>..] - ETA: 0s - loss: 0.0445 - accuracy: 0.9828\n",
            "Epoch 98: val_accuracy did not improve from 0.86933\n",
            "47/47 [==============================] - 1s 17ms/step - loss: 0.0446 - accuracy: 0.9831 - val_loss: 0.7658 - val_accuracy: 0.8607\n",
            "Epoch 99/500\n",
            "47/47 [==============================] - ETA: 0s - loss: 0.0393 - accuracy: 0.9858\n",
            "Epoch 99: val_accuracy did not improve from 0.86933\n",
            "47/47 [==============================] - 1s 17ms/step - loss: 0.0393 - accuracy: 0.9858 - val_loss: 0.7501 - val_accuracy: 0.8653\n",
            "Epoch 100/500\n",
            "47/47 [==============================] - ETA: 0s - loss: 0.0528 - accuracy: 0.9812\n",
            "Epoch 100: val_accuracy did not improve from 0.86933\n",
            "47/47 [==============================] - 1s 18ms/step - loss: 0.0528 - accuracy: 0.9812 - val_loss: 0.7881 - val_accuracy: 0.8627\n",
            "Epoch 101/500\n",
            "47/47 [==============================] - ETA: 0s - loss: 0.0626 - accuracy: 0.9780\n",
            "Epoch 101: val_accuracy did not improve from 0.86933\n",
            "47/47 [==============================] - 1s 17ms/step - loss: 0.0626 - accuracy: 0.9780 - val_loss: 0.7383 - val_accuracy: 0.8657\n",
            "Epoch 102/500\n",
            "44/47 [===========================>..] - ETA: 0s - loss: 0.0611 - accuracy: 0.9766\n",
            "Epoch 102: val_accuracy did not improve from 0.86933\n",
            "47/47 [==============================] - 1s 17ms/step - loss: 0.0624 - accuracy: 0.9761 - val_loss: 0.8555 - val_accuracy: 0.8500\n",
            "Epoch 103/500\n",
            "47/47 [==============================] - ETA: 0s - loss: 0.0525 - accuracy: 0.9813\n",
            "Epoch 103: val_accuracy did not improve from 0.86933\n",
            "47/47 [==============================] - 1s 17ms/step - loss: 0.0525 - accuracy: 0.9813 - val_loss: 0.8090 - val_accuracy: 0.8560\n",
            "Epoch 104/500\n",
            "44/47 [===========================>..] - ETA: 0s - loss: 0.0439 - accuracy: 0.9852\n",
            "Epoch 104: val_accuracy did not improve from 0.86933\n",
            "47/47 [==============================] - 1s 17ms/step - loss: 0.0433 - accuracy: 0.9854 - val_loss: 0.7493 - val_accuracy: 0.8633\n",
            "Epoch 105/500\n",
            "44/47 [===========================>..] - ETA: 0s - loss: 0.0394 - accuracy: 0.9866\n",
            "Epoch 105: val_accuracy did not improve from 0.86933\n",
            "47/47 [==============================] - 1s 18ms/step - loss: 0.0382 - accuracy: 0.9873 - val_loss: 0.8063 - val_accuracy: 0.8497\n",
            "Epoch 106/500\n",
            "47/47 [==============================] - ETA: 0s - loss: 0.0426 - accuracy: 0.9853\n",
            "Epoch 106: val_accuracy improved from 0.86933 to 0.87200, saving model to model\\best_dense_nn_fashion_mnist\n"
          ]
        },
        {
          "name": "stderr",
          "output_type": "stream",
          "text": [
            "WARNING:absl:Found untraced functions such as _update_step_xla while saving (showing 1 of 1). These functions will not be directly callable after loading.\n"
          ]
        },
        {
          "name": "stdout",
          "output_type": "stream",
          "text": [
            "INFO:tensorflow:Assets written to: model\\best_dense_nn_fashion_mnist\\assets\n"
          ]
        },
        {
          "name": "stderr",
          "output_type": "stream",
          "text": [
            "INFO:tensorflow:Assets written to: model\\best_dense_nn_fashion_mnist\\assets\n"
          ]
        },
        {
          "name": "stdout",
          "output_type": "stream",
          "text": [
            "47/47 [==============================] - 3s 73ms/step - loss: 0.0426 - accuracy: 0.9853 - val_loss: 0.7486 - val_accuracy: 0.8720\n",
            "Epoch 107/500\n",
            "44/47 [===========================>..] - ETA: 0s - loss: 0.0535 - accuracy: 0.9798\n",
            "Epoch 107: val_accuracy did not improve from 0.87200\n",
            "47/47 [==============================] - 1s 16ms/step - loss: 0.0535 - accuracy: 0.9797 - val_loss: 0.7158 - val_accuracy: 0.8510\n",
            "Epoch 108/500\n",
            "47/47 [==============================] - ETA: 0s - loss: 0.0478 - accuracy: 0.9827\n",
            "Epoch 108: val_accuracy did not improve from 0.87200\n",
            "47/47 [==============================] - 1s 17ms/step - loss: 0.0478 - accuracy: 0.9827 - val_loss: 0.7584 - val_accuracy: 0.8617\n",
            "Epoch 109/500\n",
            "47/47 [==============================] - ETA: 0s - loss: 0.0436 - accuracy: 0.9829\n",
            "Epoch 109: val_accuracy did not improve from 0.87200\n",
            "47/47 [==============================] - 1s 18ms/step - loss: 0.0436 - accuracy: 0.9829 - val_loss: 0.7726 - val_accuracy: 0.8550\n",
            "Epoch 110/500\n",
            "47/47 [==============================] - ETA: 0s - loss: 0.0411 - accuracy: 0.9844\n",
            "Epoch 110: val_accuracy did not improve from 0.87200\n",
            "47/47 [==============================] - 1s 17ms/step - loss: 0.0411 - accuracy: 0.9844 - val_loss: 0.8725 - val_accuracy: 0.8450\n",
            "Epoch 111/500\n",
            "47/47 [==============================] - ETA: 0s - loss: 0.0472 - accuracy: 0.9842\n",
            "Epoch 111: val_accuracy did not improve from 0.87200\n",
            "47/47 [==============================] - 1s 16ms/step - loss: 0.0472 - accuracy: 0.9842 - val_loss: 0.7693 - val_accuracy: 0.8580\n",
            "Epoch 112/500\n",
            "44/47 [===========================>..] - ETA: 0s - loss: 0.0395 - accuracy: 0.9845\n",
            "Epoch 112: val_accuracy did not improve from 0.87200\n",
            "47/47 [==============================] - 1s 16ms/step - loss: 0.0402 - accuracy: 0.9840 - val_loss: 0.8195 - val_accuracy: 0.8620\n",
            "Epoch 113/500\n",
            "44/47 [===========================>..] - ETA: 0s - loss: 0.0472 - accuracy: 0.9830\n",
            "Epoch 113: val_accuracy did not improve from 0.87200\n",
            "47/47 [==============================] - 1s 16ms/step - loss: 0.0471 - accuracy: 0.9832 - val_loss: 0.7913 - val_accuracy: 0.8607\n",
            "Epoch 114/500\n",
            "45/47 [===========================>..] - ETA: 0s - loss: 0.0383 - accuracy: 0.9854\n",
            "Epoch 114: val_accuracy did not improve from 0.87200\n",
            "47/47 [==============================] - 1s 18ms/step - loss: 0.0387 - accuracy: 0.9852 - val_loss: 0.8026 - val_accuracy: 0.8617\n",
            "Epoch 115/500\n",
            "47/47 [==============================] - ETA: 0s - loss: 0.0417 - accuracy: 0.9864\n",
            "Epoch 115: val_accuracy did not improve from 0.87200\n",
            "47/47 [==============================] - 1s 17ms/step - loss: 0.0417 - accuracy: 0.9864 - val_loss: 0.8037 - val_accuracy: 0.8627\n",
            "Epoch 116/500\n",
            "44/47 [===========================>..] - ETA: 0s - loss: 0.0435 - accuracy: 0.9837\n",
            "Epoch 116: val_accuracy did not improve from 0.87200\n",
            "47/47 [==============================] - 1s 17ms/step - loss: 0.0448 - accuracy: 0.9834 - val_loss: 0.8245 - val_accuracy: 0.8430\n",
            "Epoch 117/500\n",
            "44/47 [===========================>..] - ETA: 0s - loss: 0.0454 - accuracy: 0.9846\n",
            "Epoch 117: val_accuracy did not improve from 0.87200\n",
            "47/47 [==============================] - 1s 16ms/step - loss: 0.0445 - accuracy: 0.9849 - val_loss: 0.8026 - val_accuracy: 0.8720\n",
            "Epoch 118/500\n",
            "47/47 [==============================] - ETA: 0s - loss: 0.0341 - accuracy: 0.9879\n",
            "Epoch 118: val_accuracy did not improve from 0.87200\n",
            "47/47 [==============================] - 1s 17ms/step - loss: 0.0341 - accuracy: 0.9879 - val_loss: 0.8213 - val_accuracy: 0.8607\n",
            "Epoch 119/500\n",
            "46/47 [============================>.] - ETA: 0s - loss: 0.0370 - accuracy: 0.9867\n",
            "Epoch 119: val_accuracy did not improve from 0.87200\n",
            "47/47 [==============================] - 1s 17ms/step - loss: 0.0373 - accuracy: 0.9866 - val_loss: 0.9295 - val_accuracy: 0.8570\n",
            "Epoch 120/500\n",
            "46/47 [============================>.] - ETA: 0s - loss: 0.0472 - accuracy: 0.9844\n",
            "Epoch 120: val_accuracy did not improve from 0.87200\n",
            "47/47 [==============================] - 1s 17ms/step - loss: 0.0474 - accuracy: 0.9842 - val_loss: 0.9163 - val_accuracy: 0.8593\n",
            "Epoch 121/500\n",
            "46/47 [============================>.] - ETA: 0s - loss: 0.0376 - accuracy: 0.9868\n",
            "Epoch 121: val_accuracy improved from 0.87200 to 0.87300, saving model to model\\best_dense_nn_fashion_mnist\n"
          ]
        },
        {
          "name": "stderr",
          "output_type": "stream",
          "text": [
            "WARNING:absl:Found untraced functions such as _update_step_xla while saving (showing 1 of 1). These functions will not be directly callable after loading.\n"
          ]
        },
        {
          "name": "stdout",
          "output_type": "stream",
          "text": [
            "INFO:tensorflow:Assets written to: model\\best_dense_nn_fashion_mnist\\assets\n"
          ]
        },
        {
          "name": "stderr",
          "output_type": "stream",
          "text": [
            "INFO:tensorflow:Assets written to: model\\best_dense_nn_fashion_mnist\\assets\n"
          ]
        },
        {
          "name": "stdout",
          "output_type": "stream",
          "text": [
            "47/47 [==============================] - 2s 50ms/step - loss: 0.0378 - accuracy: 0.9865 - val_loss: 0.7320 - val_accuracy: 0.8730\n",
            "Epoch 122/500\n",
            "45/47 [===========================>..] - ETA: 0s - loss: 0.0315 - accuracy: 0.9886\n",
            "Epoch 122: val_accuracy did not improve from 0.87300\n",
            "47/47 [==============================] - 1s 17ms/step - loss: 0.0310 - accuracy: 0.9887 - val_loss: 0.7961 - val_accuracy: 0.8693\n",
            "Epoch 123/500\n",
            "44/47 [===========================>..] - ETA: 0s - loss: 0.0371 - accuracy: 0.9863\n",
            "Epoch 123: val_accuracy did not improve from 0.87300\n",
            "47/47 [==============================] - 1s 16ms/step - loss: 0.0368 - accuracy: 0.9864 - val_loss: 0.8285 - val_accuracy: 0.8593\n",
            "Epoch 124/500\n",
            "47/47 [==============================] - ETA: 0s - loss: 0.0398 - accuracy: 0.9848\n",
            "Epoch 124: val_accuracy did not improve from 0.87300\n",
            "47/47 [==============================] - 1s 18ms/step - loss: 0.0398 - accuracy: 0.9848 - val_loss: 0.8299 - val_accuracy: 0.8580\n",
            "Epoch 125/500\n",
            "44/47 [===========================>..] - ETA: 0s - loss: 0.0363 - accuracy: 0.9863\n",
            "Epoch 125: val_accuracy did not improve from 0.87300\n",
            "47/47 [==============================] - 1s 16ms/step - loss: 0.0378 - accuracy: 0.9860 - val_loss: 0.8144 - val_accuracy: 0.8567\n",
            "Epoch 126/500\n",
            "44/47 [===========================>..] - ETA: 0s - loss: 0.0488 - accuracy: 0.9830\n",
            "Epoch 126: val_accuracy did not improve from 0.87300\n",
            "47/47 [==============================] - 1s 17ms/step - loss: 0.0490 - accuracy: 0.9830 - val_loss: 0.8033 - val_accuracy: 0.8540\n",
            "Epoch 127/500\n",
            "47/47 [==============================] - ETA: 0s - loss: 0.0576 - accuracy: 0.9788\n",
            "Epoch 127: val_accuracy did not improve from 0.87300\n",
            "47/47 [==============================] - 1s 17ms/step - loss: 0.0576 - accuracy: 0.9788 - val_loss: 0.9275 - val_accuracy: 0.8380\n",
            "Epoch 128/500\n",
            "44/47 [===========================>..] - ETA: 0s - loss: 0.0486 - accuracy: 0.9822\n",
            "Epoch 128: val_accuracy did not improve from 0.87300\n",
            "47/47 [==============================] - 1s 16ms/step - loss: 0.0476 - accuracy: 0.9827 - val_loss: 0.8096 - val_accuracy: 0.8550\n",
            "Epoch 129/500\n",
            "45/47 [===========================>..] - ETA: 0s - loss: 0.0442 - accuracy: 0.9840\n",
            "Epoch 129: val_accuracy did not improve from 0.87300\n",
            "47/47 [==============================] - 1s 18ms/step - loss: 0.0445 - accuracy: 0.9840 - val_loss: 0.8058 - val_accuracy: 0.8513\n",
            "Epoch 130/500\n",
            "46/47 [============================>.] - ETA: 0s - loss: 0.0511 - accuracy: 0.9823\n",
            "Epoch 130: val_accuracy did not improve from 0.87300\n",
            "47/47 [==============================] - 1s 17ms/step - loss: 0.0507 - accuracy: 0.9824 - val_loss: 0.8327 - val_accuracy: 0.8687\n",
            "Epoch 131/500\n",
            "45/47 [===========================>..] - ETA: 0s - loss: 0.0395 - accuracy: 0.9863\n",
            "Epoch 131: val_accuracy did not improve from 0.87300\n",
            "47/47 [==============================] - 1s 18ms/step - loss: 0.0400 - accuracy: 0.9859 - val_loss: 0.8575 - val_accuracy: 0.8637\n",
            "Epoch 132/500\n",
            "45/47 [===========================>..] - ETA: 0s - loss: 0.0449 - accuracy: 0.9851\n",
            "Epoch 132: val_accuracy did not improve from 0.87300\n",
            "47/47 [==============================] - 1s 18ms/step - loss: 0.0447 - accuracy: 0.9852 - val_loss: 0.8310 - val_accuracy: 0.8643\n",
            "Epoch 133/500\n",
            "47/47 [==============================] - ETA: 0s - loss: 0.0349 - accuracy: 0.9862\n",
            "Epoch 133: val_accuracy did not improve from 0.87300\n",
            "47/47 [==============================] - 1s 19ms/step - loss: 0.0349 - accuracy: 0.9862 - val_loss: 0.8191 - val_accuracy: 0.8643\n",
            "Epoch 134/500\n",
            "45/47 [===========================>..] - ETA: 0s - loss: 0.0351 - accuracy: 0.9879\n",
            "Epoch 134: val_accuracy did not improve from 0.87300\n",
            "47/47 [==============================] - 1s 20ms/step - loss: 0.0358 - accuracy: 0.9876 - val_loss: 0.8226 - val_accuracy: 0.8680\n",
            "Epoch 135/500\n",
            "46/47 [============================>.] - ETA: 0s - loss: 0.0364 - accuracy: 0.9871\n",
            "Epoch 135: val_accuracy did not improve from 0.87300\n",
            "47/47 [==============================] - 1s 18ms/step - loss: 0.0363 - accuracy: 0.9872 - val_loss: 0.8690 - val_accuracy: 0.8660\n",
            "Epoch 136/500\n",
            "45/47 [===========================>..] - ETA: 0s - loss: 0.0376 - accuracy: 0.9864\n",
            "Epoch 136: val_accuracy did not improve from 0.87300\n",
            "47/47 [==============================] - 1s 21ms/step - loss: 0.0377 - accuracy: 0.9864 - val_loss: 0.9154 - val_accuracy: 0.8707\n",
            "Epoch 137/500\n",
            "44/47 [===========================>..] - ETA: 0s - loss: 0.0336 - accuracy: 0.9886\n",
            "Epoch 137: val_accuracy did not improve from 0.87300\n",
            "47/47 [==============================] - 1s 19ms/step - loss: 0.0343 - accuracy: 0.9885 - val_loss: 0.8083 - val_accuracy: 0.8627\n",
            "Epoch 138/500\n",
            "47/47 [==============================] - ETA: 0s - loss: 0.0319 - accuracy: 0.9879\n",
            "Epoch 138: val_accuracy did not improve from 0.87300\n",
            "47/47 [==============================] - 1s 18ms/step - loss: 0.0319 - accuracy: 0.9879 - val_loss: 0.8766 - val_accuracy: 0.8507\n",
            "Epoch 139/500\n",
            "47/47 [==============================] - ETA: 0s - loss: 0.0376 - accuracy: 0.9873\n",
            "Epoch 139: val_accuracy improved from 0.87300 to 0.87367, saving model to model\\best_dense_nn_fashion_mnist\n"
          ]
        },
        {
          "name": "stderr",
          "output_type": "stream",
          "text": [
            "WARNING:absl:Found untraced functions such as _update_step_xla while saving (showing 1 of 1). These functions will not be directly callable after loading.\n"
          ]
        },
        {
          "name": "stdout",
          "output_type": "stream",
          "text": [
            "INFO:tensorflow:Assets written to: model\\best_dense_nn_fashion_mnist\\assets\n"
          ]
        },
        {
          "name": "stderr",
          "output_type": "stream",
          "text": [
            "INFO:tensorflow:Assets written to: model\\best_dense_nn_fashion_mnist\\assets\n"
          ]
        },
        {
          "name": "stdout",
          "output_type": "stream",
          "text": [
            "47/47 [==============================] - 2s 53ms/step - loss: 0.0376 - accuracy: 0.9873 - val_loss: 0.7281 - val_accuracy: 0.8737\n",
            "Epoch 140/500\n",
            "45/47 [===========================>..] - ETA: 0s - loss: 0.0324 - accuracy: 0.9885\n",
            "Epoch 140: val_accuracy did not improve from 0.87367\n",
            "47/47 [==============================] - 1s 17ms/step - loss: 0.0320 - accuracy: 0.9886 - val_loss: 0.8918 - val_accuracy: 0.8643\n",
            "Epoch 141/500\n",
            "47/47 [==============================] - ETA: 0s - loss: 0.0363 - accuracy: 0.9878\n",
            "Epoch 141: val_accuracy did not improve from 0.87367\n",
            "47/47 [==============================] - 1s 17ms/step - loss: 0.0363 - accuracy: 0.9878 - val_loss: 0.8599 - val_accuracy: 0.8647\n",
            "Epoch 142/500\n",
            "45/47 [===========================>..] - ETA: 0s - loss: 0.0340 - accuracy: 0.9883\n",
            "Epoch 142: val_accuracy did not improve from 0.87367\n",
            "47/47 [==============================] - 1s 17ms/step - loss: 0.0334 - accuracy: 0.9885 - val_loss: 0.7477 - val_accuracy: 0.8667\n",
            "Test accuracy: 0.8694%\n"
          ]
        }
      ],
      "source": [
        "model = Sequential([\n",
        "    keras.layers.Dense(512, activation='relu'),\n",
        "    keras.layers.BatchNormalization(),\n",
        "    keras.layers.Dropout(0.15),\n",
        "    keras.layers.Dense(512, activation='relu'),\n",
        "    keras.layers.BatchNormalization(),\n",
        "    keras.layers.Dropout(0.15),\n",
        "    keras.layers.Dense (10, activation='softmax')\n",
        "])\n",
        "\n",
        "es = EarlyStopping(monitor='accuracy', mode='auto', verbose=0, patience=20)\n",
        "mc = ModelCheckpoint('model/best_dense_nn_fashion_mnist', monitor='val_accuracy', mode='max', verbose=1, save_best_only=True)\n",
        "model.compile(optimizer='adam', loss ='sparse_categorical_crossentropy', metrics = ['accuracy'])\n",
        "history = model.fit(X_train, y_train, validation_split=0.2, epochs=500, batch_size=256, callbacks=[es, mc])\n",
        "\n",
        "# model.save('/content/Models/NLP_nn')\n",
        "model = load_model('model/best_dense_nn_fashion_mnist')\n",
        "_, model_accuracy = model.evaluate(X_test, y_test, verbose=0)\n",
        "print('Test accuracy: %.4f' % (model_accuracy) + '%')"
      ]
    },
    {
      "attachments": {},
      "cell_type": "markdown",
      "metadata": {},
      "source": [
        "# Predictions"
      ]
    },
    {
      "cell_type": "code",
      "execution_count": 5,
      "metadata": {
        "colab": {
          "base_uri": "https://localhost:8080/"
        },
        "id": "gX0IrrR8DKmq",
        "outputId": "bad74886-2ff0-4287-9da7-cafa391730e5"
      },
      "outputs": [
        {
          "name": "stdout",
          "output_type": "stream",
          "text": [
            "313/313 [==============================] - 1s 2ms/step\n",
            "Check if: 0.8694 == 0.8694\n"
          ]
        }
      ],
      "source": [
        "y_pred = model.predict(X_test)\n",
        "print(f'Check if: {sum((pd.Series(np.argmax(y_pred, axis=1)) - y_test) == 0) / 10000} == {round(model_accuracy, 4)}')"
      ]
    },
    {
      "cell_type": "code",
      "execution_count": 6,
      "metadata": {
        "id": "hfjMca51JobD"
      },
      "outputs": [],
      "source": [
        "pd.Series(np.argmax(y_pred, axis=1)).to_csv('predictions/best_predictions_fashion_mnist.csv', index=False)"
      ]
    }
  ],
  "metadata": {
    "accelerator": "GPU",
    "colab": {
      "provenance": []
    },
    "gpuClass": "standard",
    "kernelspec": {
      "display_name": "env",
      "language": "python",
      "name": "python3"
    },
    "language_info": {
      "codemirror_mode": {
        "name": "ipython",
        "version": 3
      },
      "file_extension": ".py",
      "mimetype": "text/x-python",
      "name": "python",
      "nbconvert_exporter": "python",
      "pygments_lexer": "ipython3",
      "version": "3.11.1"
    },
    "vscode": {
      "interpreter": {
        "hash": "8e5fcf580c453ff73111c5038b49a7469ef9aaa48bf4ad55ef51f8bb144c5bf0"
      }
    }
  },
  "nbformat": 4,
  "nbformat_minor": 0
}
